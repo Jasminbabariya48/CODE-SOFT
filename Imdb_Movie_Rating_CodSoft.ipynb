{
 "cells": [
  {
   "cell_type": "code",
   "execution_count": 1,
   "id": "e8b0c4e3",
   "metadata": {},
   "outputs": [],
   "source": [
    "# importing Libraries\n",
    "\n",
    "import numpy as np\n",
    "import pandas as pd\n",
    "import scipy.stats as stats\n",
    "import matplotlib.pyplot as plt\n",
    "import seaborn as sns\n",
    "from sklearn.model_selection import train_test_split\n",
    "from sklearn.model_selection import cross_val_score\n",
    "from sklearn.metrics import mean_squared_error,r2_score,mean_absolute_error"
   ]
  },
  {
   "cell_type": "code",
   "execution_count": 2,
   "id": "161b2c77",
   "metadata": {},
   "outputs": [
    {
     "data": {
      "text/html": [
       "<div>\n",
       "<style scoped>\n",
       "    .dataframe tbody tr th:only-of-type {\n",
       "        vertical-align: middle;\n",
       "    }\n",
       "\n",
       "    .dataframe tbody tr th {\n",
       "        vertical-align: top;\n",
       "    }\n",
       "\n",
       "    .dataframe thead th {\n",
       "        text-align: right;\n",
       "    }\n",
       "</style>\n",
       "<table border=\"1\" class=\"dataframe\">\n",
       "  <thead>\n",
       "    <tr style=\"text-align: right;\">\n",
       "      <th></th>\n",
       "      <th>Name</th>\n",
       "      <th>Year</th>\n",
       "      <th>Duration</th>\n",
       "      <th>Genre</th>\n",
       "      <th>Rating</th>\n",
       "      <th>Votes</th>\n",
       "      <th>Director</th>\n",
       "      <th>Actor 1</th>\n",
       "      <th>Actor 2</th>\n",
       "      <th>Actor 3</th>\n",
       "    </tr>\n",
       "  </thead>\n",
       "  <tbody>\n",
       "    <tr>\n",
       "      <th>0</th>\n",
       "      <td></td>\n",
       "      <td>NaN</td>\n",
       "      <td>NaN</td>\n",
       "      <td>Drama</td>\n",
       "      <td>NaN</td>\n",
       "      <td>NaN</td>\n",
       "      <td>J.S. Randhawa</td>\n",
       "      <td>Manmauji</td>\n",
       "      <td>Birbal</td>\n",
       "      <td>Rajendra Bhatia</td>\n",
       "    </tr>\n",
       "    <tr>\n",
       "      <th>1</th>\n",
       "      <td>#Gadhvi (He thought he was Gandhi)</td>\n",
       "      <td>-2019.0</td>\n",
       "      <td>109 min</td>\n",
       "      <td>Drama</td>\n",
       "      <td>7.0</td>\n",
       "      <td>8</td>\n",
       "      <td>Gaurav Bakshi</td>\n",
       "      <td>Rasika Dugal</td>\n",
       "      <td>Vivek Ghamande</td>\n",
       "      <td>Arvind Jangid</td>\n",
       "    </tr>\n",
       "    <tr>\n",
       "      <th>2</th>\n",
       "      <td>#Homecoming</td>\n",
       "      <td>-2021.0</td>\n",
       "      <td>90 min</td>\n",
       "      <td>Drama, Musical</td>\n",
       "      <td>NaN</td>\n",
       "      <td>NaN</td>\n",
       "      <td>Soumyajit Majumdar</td>\n",
       "      <td>Sayani Gupta</td>\n",
       "      <td>Plabita Borthakur</td>\n",
       "      <td>Roy Angana</td>\n",
       "    </tr>\n",
       "    <tr>\n",
       "      <th>3</th>\n",
       "      <td>#Yaaram</td>\n",
       "      <td>-2019.0</td>\n",
       "      <td>110 min</td>\n",
       "      <td>Comedy, Romance</td>\n",
       "      <td>4.4</td>\n",
       "      <td>35</td>\n",
       "      <td>Ovais Khan</td>\n",
       "      <td>Prateik</td>\n",
       "      <td>Ishita Raj</td>\n",
       "      <td>Siddhant Kapoor</td>\n",
       "    </tr>\n",
       "    <tr>\n",
       "      <th>4</th>\n",
       "      <td>...And Once Again</td>\n",
       "      <td>-2010.0</td>\n",
       "      <td>105 min</td>\n",
       "      <td>Drama</td>\n",
       "      <td>NaN</td>\n",
       "      <td>NaN</td>\n",
       "      <td>Amol Palekar</td>\n",
       "      <td>Rajat Kapoor</td>\n",
       "      <td>Rituparna Sengupta</td>\n",
       "      <td>Antara Mali</td>\n",
       "    </tr>\n",
       "    <tr>\n",
       "      <th>...</th>\n",
       "      <td>...</td>\n",
       "      <td>...</td>\n",
       "      <td>...</td>\n",
       "      <td>...</td>\n",
       "      <td>...</td>\n",
       "      <td>...</td>\n",
       "      <td>...</td>\n",
       "      <td>...</td>\n",
       "      <td>...</td>\n",
       "      <td>...</td>\n",
       "    </tr>\n",
       "    <tr>\n",
       "      <th>15504</th>\n",
       "      <td>Zulm Ko Jala Doonga</td>\n",
       "      <td>-1988.0</td>\n",
       "      <td>NaN</td>\n",
       "      <td>Action</td>\n",
       "      <td>4.6</td>\n",
       "      <td>11</td>\n",
       "      <td>Mahendra Shah</td>\n",
       "      <td>Naseeruddin Shah</td>\n",
       "      <td>Sumeet Saigal</td>\n",
       "      <td>Suparna Anand</td>\n",
       "    </tr>\n",
       "    <tr>\n",
       "      <th>15505</th>\n",
       "      <td>Zulmi</td>\n",
       "      <td>-1999.0</td>\n",
       "      <td>129 min</td>\n",
       "      <td>Action, Drama</td>\n",
       "      <td>4.5</td>\n",
       "      <td>655</td>\n",
       "      <td>Kuku Kohli</td>\n",
       "      <td>Akshay Kumar</td>\n",
       "      <td>Twinkle Khanna</td>\n",
       "      <td>Aruna Irani</td>\n",
       "    </tr>\n",
       "    <tr>\n",
       "      <th>15506</th>\n",
       "      <td>Zulmi Raj</td>\n",
       "      <td>-2005.0</td>\n",
       "      <td>NaN</td>\n",
       "      <td>Action</td>\n",
       "      <td>NaN</td>\n",
       "      <td>NaN</td>\n",
       "      <td>Kiran Thej</td>\n",
       "      <td>Sangeeta Tiwari</td>\n",
       "      <td>NaN</td>\n",
       "      <td>NaN</td>\n",
       "    </tr>\n",
       "    <tr>\n",
       "      <th>15507</th>\n",
       "      <td>Zulmi Shikari</td>\n",
       "      <td>-1988.0</td>\n",
       "      <td>NaN</td>\n",
       "      <td>Action</td>\n",
       "      <td>NaN</td>\n",
       "      <td>NaN</td>\n",
       "      <td>NaN</td>\n",
       "      <td>NaN</td>\n",
       "      <td>NaN</td>\n",
       "      <td>NaN</td>\n",
       "    </tr>\n",
       "    <tr>\n",
       "      <th>15508</th>\n",
       "      <td>Zulm-O-Sitam</td>\n",
       "      <td>-1998.0</td>\n",
       "      <td>130 min</td>\n",
       "      <td>Action, Drama</td>\n",
       "      <td>6.2</td>\n",
       "      <td>20</td>\n",
       "      <td>K.C. Bokadia</td>\n",
       "      <td>Dharmendra</td>\n",
       "      <td>Jaya Prada</td>\n",
       "      <td>Arjun Sarja</td>\n",
       "    </tr>\n",
       "  </tbody>\n",
       "</table>\n",
       "<p>15509 rows × 10 columns</p>\n",
       "</div>"
      ],
      "text/plain": [
       "                                     Name    Year Duration            Genre  \\\n",
       "0                                             NaN      NaN            Drama   \n",
       "1      #Gadhvi (He thought he was Gandhi) -2019.0  109 min            Drama   \n",
       "2                             #Homecoming -2021.0   90 min   Drama, Musical   \n",
       "3                                 #Yaaram -2019.0  110 min  Comedy, Romance   \n",
       "4                       ...And Once Again -2010.0  105 min            Drama   \n",
       "...                                   ...     ...      ...              ...   \n",
       "15504                 Zulm Ko Jala Doonga -1988.0      NaN           Action   \n",
       "15505                               Zulmi -1999.0  129 min    Action, Drama   \n",
       "15506                           Zulmi Raj -2005.0      NaN           Action   \n",
       "15507                       Zulmi Shikari -1988.0      NaN           Action   \n",
       "15508                        Zulm-O-Sitam -1998.0  130 min    Action, Drama   \n",
       "\n",
       "       Rating Votes            Director           Actor 1             Actor 2  \\\n",
       "0         NaN   NaN       J.S. Randhawa          Manmauji              Birbal   \n",
       "1         7.0     8       Gaurav Bakshi      Rasika Dugal      Vivek Ghamande   \n",
       "2         NaN   NaN  Soumyajit Majumdar      Sayani Gupta   Plabita Borthakur   \n",
       "3         4.4    35          Ovais Khan           Prateik          Ishita Raj   \n",
       "4         NaN   NaN        Amol Palekar      Rajat Kapoor  Rituparna Sengupta   \n",
       "...       ...   ...                 ...               ...                 ...   \n",
       "15504     4.6    11       Mahendra Shah  Naseeruddin Shah       Sumeet Saigal   \n",
       "15505     4.5   655          Kuku Kohli      Akshay Kumar      Twinkle Khanna   \n",
       "15506     NaN   NaN          Kiran Thej   Sangeeta Tiwari                 NaN   \n",
       "15507     NaN   NaN                 NaN               NaN                 NaN   \n",
       "15508     6.2    20        K.C. Bokadia        Dharmendra          Jaya Prada   \n",
       "\n",
       "               Actor 3  \n",
       "0      Rajendra Bhatia  \n",
       "1        Arvind Jangid  \n",
       "2           Roy Angana  \n",
       "3      Siddhant Kapoor  \n",
       "4          Antara Mali  \n",
       "...                ...  \n",
       "15504    Suparna Anand  \n",
       "15505      Aruna Irani  \n",
       "15506              NaN  \n",
       "15507              NaN  \n",
       "15508      Arjun Sarja  \n",
       "\n",
       "[15509 rows x 10 columns]"
      ]
     },
     "execution_count": 2,
     "metadata": {},
     "output_type": "execute_result"
    }
   ],
   "source": [
    "df = pd.read_csv('IMDb_Movies_India.csv')        #HERE PASTE THE FILE PATH\n",
    "df"
   ]
  },
  {
   "cell_type": "code",
   "execution_count": 3,
   "id": "f8dcc546",
   "metadata": {},
   "outputs": [
    {
     "data": {
      "text/plain": [
       "(15509, 10)"
      ]
     },
     "execution_count": 3,
     "metadata": {},
     "output_type": "execute_result"
    }
   ],
   "source": [
    "df.shape"
   ]
  },
  {
   "cell_type": "code",
   "execution_count": 4,
   "id": "0b1be11d",
   "metadata": {},
   "outputs": [
    {
     "data": {
      "text/plain": [
       "Name           0\n",
       "Year         528\n",
       "Duration    8269\n",
       "Genre       1877\n",
       "Rating      7590\n",
       "Votes       7589\n",
       "Director     525\n",
       "Actor 1     1617\n",
       "Actor 2     2384\n",
       "Actor 3     3144\n",
       "dtype: int64"
      ]
     },
     "execution_count": 4,
     "metadata": {},
     "output_type": "execute_result"
    }
   ],
   "source": [
    "df.isnull().sum()         #Check any null value or not"
   ]
  },
  {
   "cell_type": "markdown",
   "id": "98435f76",
   "metadata": {},
   "source": [
    "# Feature Enginerring for Rating Column"
   ]
  },
  {
   "cell_type": "code",
   "execution_count": 5,
   "id": "41fa2c7e",
   "metadata": {},
   "outputs": [],
   "source": [
    "df.dropna(subset=['Rating'], inplace=True)"
   ]
  },
  {
   "cell_type": "code",
   "execution_count": 6,
   "id": "742fd690",
   "metadata": {},
   "outputs": [
    {
     "data": {
      "text/html": [
       "<div>\n",
       "<style scoped>\n",
       "    .dataframe tbody tr th:only-of-type {\n",
       "        vertical-align: middle;\n",
       "    }\n",
       "\n",
       "    .dataframe tbody tr th {\n",
       "        vertical-align: top;\n",
       "    }\n",
       "\n",
       "    .dataframe thead th {\n",
       "        text-align: right;\n",
       "    }\n",
       "</style>\n",
       "<table border=\"1\" class=\"dataframe\">\n",
       "  <thead>\n",
       "    <tr style=\"text-align: right;\">\n",
       "      <th></th>\n",
       "      <th>Name</th>\n",
       "      <th>Year</th>\n",
       "      <th>Duration</th>\n",
       "      <th>Genre</th>\n",
       "      <th>Rating</th>\n",
       "      <th>Votes</th>\n",
       "      <th>Director</th>\n",
       "      <th>Actor 1</th>\n",
       "      <th>Actor 2</th>\n",
       "      <th>Actor 3</th>\n",
       "    </tr>\n",
       "  </thead>\n",
       "  <tbody>\n",
       "    <tr>\n",
       "      <th>1</th>\n",
       "      <td>#Gadhvi (He thought he was Gandhi)</td>\n",
       "      <td>-2019.0</td>\n",
       "      <td>109 min</td>\n",
       "      <td>Drama</td>\n",
       "      <td>7.0</td>\n",
       "      <td>8</td>\n",
       "      <td>Gaurav Bakshi</td>\n",
       "      <td>Rasika Dugal</td>\n",
       "      <td>Vivek Ghamande</td>\n",
       "      <td>Arvind Jangid</td>\n",
       "    </tr>\n",
       "    <tr>\n",
       "      <th>3</th>\n",
       "      <td>#Yaaram</td>\n",
       "      <td>-2019.0</td>\n",
       "      <td>110 min</td>\n",
       "      <td>Comedy, Romance</td>\n",
       "      <td>4.4</td>\n",
       "      <td>35</td>\n",
       "      <td>Ovais Khan</td>\n",
       "      <td>Prateik</td>\n",
       "      <td>Ishita Raj</td>\n",
       "      <td>Siddhant Kapoor</td>\n",
       "    </tr>\n",
       "    <tr>\n",
       "      <th>5</th>\n",
       "      <td>...Aur Pyaar Ho Gaya</td>\n",
       "      <td>-1997.0</td>\n",
       "      <td>147 min</td>\n",
       "      <td>Comedy, Drama, Musical</td>\n",
       "      <td>4.7</td>\n",
       "      <td>827</td>\n",
       "      <td>Rahul Rawail</td>\n",
       "      <td>Bobby Deol</td>\n",
       "      <td>Aishwarya Rai Bachchan</td>\n",
       "      <td>Shammi Kapoor</td>\n",
       "    </tr>\n",
       "    <tr>\n",
       "      <th>6</th>\n",
       "      <td>...Yahaan</td>\n",
       "      <td>-2005.0</td>\n",
       "      <td>142 min</td>\n",
       "      <td>Drama, Romance, War</td>\n",
       "      <td>7.4</td>\n",
       "      <td>1,086</td>\n",
       "      <td>Shoojit Sircar</td>\n",
       "      <td>Jimmy Sheirgill</td>\n",
       "      <td>Minissha Lamba</td>\n",
       "      <td>Yashpal Sharma</td>\n",
       "    </tr>\n",
       "    <tr>\n",
       "      <th>8</th>\n",
       "      <td>?: A Question Mark</td>\n",
       "      <td>-2012.0</td>\n",
       "      <td>82 min</td>\n",
       "      <td>Horror, Mystery, Thriller</td>\n",
       "      <td>5.6</td>\n",
       "      <td>326</td>\n",
       "      <td>Allyson Patel</td>\n",
       "      <td>Yash Dave</td>\n",
       "      <td>Muntazir Ahmad</td>\n",
       "      <td>Kiran Bhatia</td>\n",
       "    </tr>\n",
       "    <tr>\n",
       "      <th>9</th>\n",
       "      <td>@Andheri</td>\n",
       "      <td>-2014.0</td>\n",
       "      <td>116 min</td>\n",
       "      <td>Action, Crime, Thriller</td>\n",
       "      <td>4.0</td>\n",
       "      <td>11</td>\n",
       "      <td>Biju Bhaskar Nair</td>\n",
       "      <td>Augustine</td>\n",
       "      <td>Fathima Babu</td>\n",
       "      <td>Byon</td>\n",
       "    </tr>\n",
       "    <tr>\n",
       "      <th>10</th>\n",
       "      <td>1:1.6 An Ode to Lost Love</td>\n",
       "      <td>-2004.0</td>\n",
       "      <td>96 min</td>\n",
       "      <td>Drama</td>\n",
       "      <td>6.2</td>\n",
       "      <td>17</td>\n",
       "      <td>Madhu Ambat</td>\n",
       "      <td>Rati Agnihotri</td>\n",
       "      <td>Gulshan Grover</td>\n",
       "      <td>Atul Kulkarni</td>\n",
       "    </tr>\n",
       "    <tr>\n",
       "      <th>11</th>\n",
       "      <td>1:13:7 Ek Tera Saath</td>\n",
       "      <td>-2016.0</td>\n",
       "      <td>120 min</td>\n",
       "      <td>Horror</td>\n",
       "      <td>5.9</td>\n",
       "      <td>59</td>\n",
       "      <td>Arshad Siddiqui</td>\n",
       "      <td>Pankaj Berry</td>\n",
       "      <td>Anubhav Dhir</td>\n",
       "      <td>Hritu Dudani</td>\n",
       "    </tr>\n",
       "    <tr>\n",
       "      <th>12</th>\n",
       "      <td>100 Days</td>\n",
       "      <td>-1991.0</td>\n",
       "      <td>161 min</td>\n",
       "      <td>Horror, Romance, Thriller</td>\n",
       "      <td>6.5</td>\n",
       "      <td>983</td>\n",
       "      <td>Partho Ghosh</td>\n",
       "      <td>Jackie Shroff</td>\n",
       "      <td>Madhuri Dixit</td>\n",
       "      <td>Javed Jaffrey</td>\n",
       "    </tr>\n",
       "    <tr>\n",
       "      <th>13</th>\n",
       "      <td>100% Love</td>\n",
       "      <td>-2012.0</td>\n",
       "      <td>166 min</td>\n",
       "      <td>Comedy, Drama, Romance</td>\n",
       "      <td>5.7</td>\n",
       "      <td>512</td>\n",
       "      <td>Rabi Kinagi</td>\n",
       "      <td>Jeet</td>\n",
       "      <td>Koyel Mallick</td>\n",
       "      <td>Sujoy Ghosh</td>\n",
       "    </tr>\n",
       "    <tr>\n",
       "      <th>15</th>\n",
       "      <td>102 Not Out</td>\n",
       "      <td>-2018.0</td>\n",
       "      <td>102 min</td>\n",
       "      <td>Comedy, Drama</td>\n",
       "      <td>7.4</td>\n",
       "      <td>6,619</td>\n",
       "      <td>Umesh Shukla</td>\n",
       "      <td>Amitabh Bachchan</td>\n",
       "      <td>Rishi Kapoor</td>\n",
       "      <td>Vijay Raaz</td>\n",
       "    </tr>\n",
       "    <tr>\n",
       "      <th>18</th>\n",
       "      <td>10ml LOVE</td>\n",
       "      <td>-2010.0</td>\n",
       "      <td>87 min</td>\n",
       "      <td>Comedy, Drama, Romance</td>\n",
       "      <td>6.3</td>\n",
       "      <td>162</td>\n",
       "      <td>Sharat Katariya</td>\n",
       "      <td>Neil Bhoopalam</td>\n",
       "      <td>Anusha Bose</td>\n",
       "      <td>Manu Rishi Chadha</td>\n",
       "    </tr>\n",
       "  </tbody>\n",
       "</table>\n",
       "</div>"
      ],
      "text/plain": [
       "                                  Name    Year Duration  \\\n",
       "1   #Gadhvi (He thought he was Gandhi) -2019.0  109 min   \n",
       "3                              #Yaaram -2019.0  110 min   \n",
       "5                 ...Aur Pyaar Ho Gaya -1997.0  147 min   \n",
       "6                            ...Yahaan -2005.0  142 min   \n",
       "8                   ?: A Question Mark -2012.0   82 min   \n",
       "9                             @Andheri -2014.0  116 min   \n",
       "10           1:1.6 An Ode to Lost Love -2004.0   96 min   \n",
       "11                1:13:7 Ek Tera Saath -2016.0  120 min   \n",
       "12                            100 Days -1991.0  161 min   \n",
       "13                           100% Love -2012.0  166 min   \n",
       "15                         102 Not Out -2018.0  102 min   \n",
       "18                           10ml LOVE -2010.0   87 min   \n",
       "\n",
       "                        Genre  Rating  Votes           Director  \\\n",
       "1                       Drama     7.0      8      Gaurav Bakshi   \n",
       "3             Comedy, Romance     4.4     35         Ovais Khan   \n",
       "5      Comedy, Drama, Musical     4.7    827       Rahul Rawail   \n",
       "6         Drama, Romance, War     7.4  1,086     Shoojit Sircar   \n",
       "8   Horror, Mystery, Thriller     5.6    326      Allyson Patel   \n",
       "9     Action, Crime, Thriller     4.0     11  Biju Bhaskar Nair   \n",
       "10                      Drama     6.2     17        Madhu Ambat   \n",
       "11                     Horror     5.9     59    Arshad Siddiqui   \n",
       "12  Horror, Romance, Thriller     6.5    983       Partho Ghosh   \n",
       "13     Comedy, Drama, Romance     5.7    512        Rabi Kinagi   \n",
       "15              Comedy, Drama     7.4  6,619       Umesh Shukla   \n",
       "18     Comedy, Drama, Romance     6.3    162    Sharat Katariya   \n",
       "\n",
       "             Actor 1                 Actor 2            Actor 3  \n",
       "1       Rasika Dugal          Vivek Ghamande      Arvind Jangid  \n",
       "3            Prateik              Ishita Raj    Siddhant Kapoor  \n",
       "5         Bobby Deol  Aishwarya Rai Bachchan      Shammi Kapoor  \n",
       "6    Jimmy Sheirgill          Minissha Lamba     Yashpal Sharma  \n",
       "8          Yash Dave          Muntazir Ahmad       Kiran Bhatia  \n",
       "9          Augustine            Fathima Babu               Byon  \n",
       "10    Rati Agnihotri          Gulshan Grover      Atul Kulkarni  \n",
       "11      Pankaj Berry            Anubhav Dhir       Hritu Dudani  \n",
       "12     Jackie Shroff           Madhuri Dixit      Javed Jaffrey  \n",
       "13              Jeet           Koyel Mallick        Sujoy Ghosh  \n",
       "15  Amitabh Bachchan            Rishi Kapoor         Vijay Raaz  \n",
       "18    Neil Bhoopalam             Anusha Bose  Manu Rishi Chadha  "
      ]
     },
     "execution_count": 6,
     "metadata": {},
     "output_type": "execute_result"
    }
   ],
   "source": [
    "df.head(12)"
   ]
  },
  {
   "cell_type": "code",
   "execution_count": 7,
   "id": "ff2a6ea2",
   "metadata": {},
   "outputs": [
    {
     "data": {
      "text/plain": [
       "(7919, 10)"
      ]
     },
     "execution_count": 7,
     "metadata": {},
     "output_type": "execute_result"
    }
   ],
   "source": [
    "df.shape"
   ]
  },
  {
   "cell_type": "code",
   "execution_count": 8,
   "id": "62941b49",
   "metadata": {},
   "outputs": [
    {
     "data": {
      "text/plain": [
       "Name           0\n",
       "Year           0\n",
       "Duration    2068\n",
       "Genre        102\n",
       "Rating         0\n",
       "Votes          0\n",
       "Director       5\n",
       "Actor 1      125\n",
       "Actor 2      200\n",
       "Actor 3      292\n",
       "dtype: int64"
      ]
     },
     "execution_count": 8,
     "metadata": {},
     "output_type": "execute_result"
    }
   ],
   "source": [
    "df.isnull().sum()"
   ]
  },
  {
   "cell_type": "markdown",
   "id": "f9d0980c",
   "metadata": {},
   "source": [
    "# Feature Enginerring for  Duration Column"
   ]
  },
  {
   "cell_type": "code",
   "execution_count": 9,
   "id": "4cb50eb2",
   "metadata": {},
   "outputs": [
    {
     "data": {
      "text/plain": [
       "26.114408384897082"
      ]
     },
     "execution_count": 9,
     "metadata": {},
     "output_type": "execute_result"
    }
   ],
   "source": [
    "df['Duration'].isnull().mean()*100"
   ]
  },
  {
   "cell_type": "code",
   "execution_count": 10,
   "id": "d1155a63",
   "metadata": {},
   "outputs": [
    {
     "data": {
      "text/plain": [
       "2068"
      ]
     },
     "execution_count": 10,
     "metadata": {},
     "output_type": "execute_result"
    }
   ],
   "source": [
    "df['Duration'].isnull().sum()        #Here, 53% data are missing so,it is column is not usefull in our machine learning model"
   ]
  },
  {
   "cell_type": "code",
   "execution_count": 11,
   "id": "8243160d",
   "metadata": {},
   "outputs": [],
   "source": [
    "df=df.drop(columns=['Duration','Name'])"
   ]
  },
  {
   "cell_type": "code",
   "execution_count": 12,
   "id": "875ccf68",
   "metadata": {},
   "outputs": [
    {
     "data": {
      "text/html": [
       "<div>\n",
       "<style scoped>\n",
       "    .dataframe tbody tr th:only-of-type {\n",
       "        vertical-align: middle;\n",
       "    }\n",
       "\n",
       "    .dataframe tbody tr th {\n",
       "        vertical-align: top;\n",
       "    }\n",
       "\n",
       "    .dataframe thead th {\n",
       "        text-align: right;\n",
       "    }\n",
       "</style>\n",
       "<table border=\"1\" class=\"dataframe\">\n",
       "  <thead>\n",
       "    <tr style=\"text-align: right;\">\n",
       "      <th></th>\n",
       "      <th>Year</th>\n",
       "      <th>Genre</th>\n",
       "      <th>Rating</th>\n",
       "      <th>Votes</th>\n",
       "      <th>Director</th>\n",
       "      <th>Actor 1</th>\n",
       "      <th>Actor 2</th>\n",
       "      <th>Actor 3</th>\n",
       "    </tr>\n",
       "  </thead>\n",
       "  <tbody>\n",
       "    <tr>\n",
       "      <th>1</th>\n",
       "      <td>-2019.0</td>\n",
       "      <td>Drama</td>\n",
       "      <td>7.0</td>\n",
       "      <td>8</td>\n",
       "      <td>Gaurav Bakshi</td>\n",
       "      <td>Rasika Dugal</td>\n",
       "      <td>Vivek Ghamande</td>\n",
       "      <td>Arvind Jangid</td>\n",
       "    </tr>\n",
       "    <tr>\n",
       "      <th>3</th>\n",
       "      <td>-2019.0</td>\n",
       "      <td>Comedy, Romance</td>\n",
       "      <td>4.4</td>\n",
       "      <td>35</td>\n",
       "      <td>Ovais Khan</td>\n",
       "      <td>Prateik</td>\n",
       "      <td>Ishita Raj</td>\n",
       "      <td>Siddhant Kapoor</td>\n",
       "    </tr>\n",
       "    <tr>\n",
       "      <th>5</th>\n",
       "      <td>-1997.0</td>\n",
       "      <td>Comedy, Drama, Musical</td>\n",
       "      <td>4.7</td>\n",
       "      <td>827</td>\n",
       "      <td>Rahul Rawail</td>\n",
       "      <td>Bobby Deol</td>\n",
       "      <td>Aishwarya Rai Bachchan</td>\n",
       "      <td>Shammi Kapoor</td>\n",
       "    </tr>\n",
       "    <tr>\n",
       "      <th>6</th>\n",
       "      <td>-2005.0</td>\n",
       "      <td>Drama, Romance, War</td>\n",
       "      <td>7.4</td>\n",
       "      <td>1,086</td>\n",
       "      <td>Shoojit Sircar</td>\n",
       "      <td>Jimmy Sheirgill</td>\n",
       "      <td>Minissha Lamba</td>\n",
       "      <td>Yashpal Sharma</td>\n",
       "    </tr>\n",
       "    <tr>\n",
       "      <th>8</th>\n",
       "      <td>-2012.0</td>\n",
       "      <td>Horror, Mystery, Thriller</td>\n",
       "      <td>5.6</td>\n",
       "      <td>326</td>\n",
       "      <td>Allyson Patel</td>\n",
       "      <td>Yash Dave</td>\n",
       "      <td>Muntazir Ahmad</td>\n",
       "      <td>Kiran Bhatia</td>\n",
       "    </tr>\n",
       "    <tr>\n",
       "      <th>...</th>\n",
       "      <td>...</td>\n",
       "      <td>...</td>\n",
       "      <td>...</td>\n",
       "      <td>...</td>\n",
       "      <td>...</td>\n",
       "      <td>...</td>\n",
       "      <td>...</td>\n",
       "      <td>...</td>\n",
       "    </tr>\n",
       "    <tr>\n",
       "      <th>15501</th>\n",
       "      <td>-1992.0</td>\n",
       "      <td>Action, Crime, Drama</td>\n",
       "      <td>5.3</td>\n",
       "      <td>135</td>\n",
       "      <td>Bharat Rangachary</td>\n",
       "      <td>Dharmendra</td>\n",
       "      <td>Moushumi Chatterjee</td>\n",
       "      <td>Govinda</td>\n",
       "    </tr>\n",
       "    <tr>\n",
       "      <th>15503</th>\n",
       "      <td>-1989.0</td>\n",
       "      <td>Action, Crime, Drama</td>\n",
       "      <td>5.8</td>\n",
       "      <td>44</td>\n",
       "      <td>S.P. Muthuraman</td>\n",
       "      <td>Chiranjeevi</td>\n",
       "      <td>Jayamalini</td>\n",
       "      <td>Rajinikanth</td>\n",
       "    </tr>\n",
       "    <tr>\n",
       "      <th>15504</th>\n",
       "      <td>-1988.0</td>\n",
       "      <td>Action</td>\n",
       "      <td>4.6</td>\n",
       "      <td>11</td>\n",
       "      <td>Mahendra Shah</td>\n",
       "      <td>Naseeruddin Shah</td>\n",
       "      <td>Sumeet Saigal</td>\n",
       "      <td>Suparna Anand</td>\n",
       "    </tr>\n",
       "    <tr>\n",
       "      <th>15505</th>\n",
       "      <td>-1999.0</td>\n",
       "      <td>Action, Drama</td>\n",
       "      <td>4.5</td>\n",
       "      <td>655</td>\n",
       "      <td>Kuku Kohli</td>\n",
       "      <td>Akshay Kumar</td>\n",
       "      <td>Twinkle Khanna</td>\n",
       "      <td>Aruna Irani</td>\n",
       "    </tr>\n",
       "    <tr>\n",
       "      <th>15508</th>\n",
       "      <td>-1998.0</td>\n",
       "      <td>Action, Drama</td>\n",
       "      <td>6.2</td>\n",
       "      <td>20</td>\n",
       "      <td>K.C. Bokadia</td>\n",
       "      <td>Dharmendra</td>\n",
       "      <td>Jaya Prada</td>\n",
       "      <td>Arjun Sarja</td>\n",
       "    </tr>\n",
       "  </tbody>\n",
       "</table>\n",
       "<p>7919 rows × 8 columns</p>\n",
       "</div>"
      ],
      "text/plain": [
       "         Year                      Genre  Rating  Votes           Director  \\\n",
       "1     -2019.0                      Drama     7.0      8      Gaurav Bakshi   \n",
       "3     -2019.0            Comedy, Romance     4.4     35         Ovais Khan   \n",
       "5     -1997.0     Comedy, Drama, Musical     4.7    827       Rahul Rawail   \n",
       "6     -2005.0        Drama, Romance, War     7.4  1,086     Shoojit Sircar   \n",
       "8     -2012.0  Horror, Mystery, Thriller     5.6    326      Allyson Patel   \n",
       "...       ...                        ...     ...    ...                ...   \n",
       "15501 -1992.0       Action, Crime, Drama     5.3    135  Bharat Rangachary   \n",
       "15503 -1989.0       Action, Crime, Drama     5.8     44    S.P. Muthuraman   \n",
       "15504 -1988.0                     Action     4.6     11      Mahendra Shah   \n",
       "15505 -1999.0              Action, Drama     4.5    655         Kuku Kohli   \n",
       "15508 -1998.0              Action, Drama     6.2     20       K.C. Bokadia   \n",
       "\n",
       "                Actor 1                 Actor 2          Actor 3  \n",
       "1          Rasika Dugal          Vivek Ghamande    Arvind Jangid  \n",
       "3               Prateik              Ishita Raj  Siddhant Kapoor  \n",
       "5            Bobby Deol  Aishwarya Rai Bachchan    Shammi Kapoor  \n",
       "6       Jimmy Sheirgill          Minissha Lamba   Yashpal Sharma  \n",
       "8             Yash Dave          Muntazir Ahmad     Kiran Bhatia  \n",
       "...                 ...                     ...              ...  \n",
       "15501        Dharmendra     Moushumi Chatterjee          Govinda  \n",
       "15503       Chiranjeevi              Jayamalini      Rajinikanth  \n",
       "15504  Naseeruddin Shah           Sumeet Saigal    Suparna Anand  \n",
       "15505      Akshay Kumar          Twinkle Khanna      Aruna Irani  \n",
       "15508        Dharmendra              Jaya Prada      Arjun Sarja  \n",
       "\n",
       "[7919 rows x 8 columns]"
      ]
     },
     "execution_count": 12,
     "metadata": {},
     "output_type": "execute_result"
    }
   ],
   "source": [
    "df"
   ]
  },
  {
   "cell_type": "markdown",
   "id": "3df9b81c",
   "metadata": {},
   "source": [
    "# Feature Enginerring for  Director Column"
   ]
  },
  {
   "cell_type": "code",
   "execution_count": 13,
   "id": "44f00daa",
   "metadata": {},
   "outputs": [
    {
     "data": {
      "text/plain": [
       "0.06313928526329082"
      ]
     },
     "execution_count": 13,
     "metadata": {},
     "output_type": "execute_result"
    }
   ],
   "source": [
    "df[\"Director\"].isnull().mean()*100"
   ]
  },
  {
   "cell_type": "code",
   "execution_count": 14,
   "id": "b505c5ba",
   "metadata": {},
   "outputs": [
    {
     "data": {
      "text/plain": [
       "5"
      ]
     },
     "execution_count": 14,
     "metadata": {},
     "output_type": "execute_result"
    }
   ],
   "source": [
    "df['Director'].isnull().sum()"
   ]
  },
  {
   "cell_type": "code",
   "execution_count": 15,
   "id": "f6fd7e28",
   "metadata": {},
   "outputs": [],
   "source": [
    "df['Director'].fillna(value='Mahesh Bhatt', inplace=True)"
   ]
  },
  {
   "cell_type": "code",
   "execution_count": 16,
   "id": "4f5cf5e6",
   "metadata": {},
   "outputs": [
    {
     "data": {
      "text/html": [
       "<div>\n",
       "<style scoped>\n",
       "    .dataframe tbody tr th:only-of-type {\n",
       "        vertical-align: middle;\n",
       "    }\n",
       "\n",
       "    .dataframe tbody tr th {\n",
       "        vertical-align: top;\n",
       "    }\n",
       "\n",
       "    .dataframe thead th {\n",
       "        text-align: right;\n",
       "    }\n",
       "</style>\n",
       "<table border=\"1\" class=\"dataframe\">\n",
       "  <thead>\n",
       "    <tr style=\"text-align: right;\">\n",
       "      <th></th>\n",
       "      <th>Year</th>\n",
       "      <th>Genre</th>\n",
       "      <th>Rating</th>\n",
       "      <th>Votes</th>\n",
       "      <th>Director</th>\n",
       "      <th>Actor 1</th>\n",
       "      <th>Actor 2</th>\n",
       "      <th>Actor 3</th>\n",
       "    </tr>\n",
       "  </thead>\n",
       "  <tbody>\n",
       "    <tr>\n",
       "      <th>1</th>\n",
       "      <td>-2019.0</td>\n",
       "      <td>Drama</td>\n",
       "      <td>7.0</td>\n",
       "      <td>8</td>\n",
       "      <td>Gaurav Bakshi</td>\n",
       "      <td>Rasika Dugal</td>\n",
       "      <td>Vivek Ghamande</td>\n",
       "      <td>Arvind Jangid</td>\n",
       "    </tr>\n",
       "    <tr>\n",
       "      <th>3</th>\n",
       "      <td>-2019.0</td>\n",
       "      <td>Comedy, Romance</td>\n",
       "      <td>4.4</td>\n",
       "      <td>35</td>\n",
       "      <td>Ovais Khan</td>\n",
       "      <td>Prateik</td>\n",
       "      <td>Ishita Raj</td>\n",
       "      <td>Siddhant Kapoor</td>\n",
       "    </tr>\n",
       "    <tr>\n",
       "      <th>5</th>\n",
       "      <td>-1997.0</td>\n",
       "      <td>Comedy, Drama, Musical</td>\n",
       "      <td>4.7</td>\n",
       "      <td>827</td>\n",
       "      <td>Rahul Rawail</td>\n",
       "      <td>Bobby Deol</td>\n",
       "      <td>Aishwarya Rai Bachchan</td>\n",
       "      <td>Shammi Kapoor</td>\n",
       "    </tr>\n",
       "    <tr>\n",
       "      <th>6</th>\n",
       "      <td>-2005.0</td>\n",
       "      <td>Drama, Romance, War</td>\n",
       "      <td>7.4</td>\n",
       "      <td>1,086</td>\n",
       "      <td>Shoojit Sircar</td>\n",
       "      <td>Jimmy Sheirgill</td>\n",
       "      <td>Minissha Lamba</td>\n",
       "      <td>Yashpal Sharma</td>\n",
       "    </tr>\n",
       "    <tr>\n",
       "      <th>8</th>\n",
       "      <td>-2012.0</td>\n",
       "      <td>Horror, Mystery, Thriller</td>\n",
       "      <td>5.6</td>\n",
       "      <td>326</td>\n",
       "      <td>Allyson Patel</td>\n",
       "      <td>Yash Dave</td>\n",
       "      <td>Muntazir Ahmad</td>\n",
       "      <td>Kiran Bhatia</td>\n",
       "    </tr>\n",
       "  </tbody>\n",
       "</table>\n",
       "</div>"
      ],
      "text/plain": [
       "     Year                      Genre  Rating  Votes        Director  \\\n",
       "1 -2019.0                      Drama     7.0      8   Gaurav Bakshi   \n",
       "3 -2019.0            Comedy, Romance     4.4     35      Ovais Khan   \n",
       "5 -1997.0     Comedy, Drama, Musical     4.7    827    Rahul Rawail   \n",
       "6 -2005.0        Drama, Romance, War     7.4  1,086  Shoojit Sircar   \n",
       "8 -2012.0  Horror, Mystery, Thriller     5.6    326   Allyson Patel   \n",
       "\n",
       "           Actor 1                 Actor 2          Actor 3  \n",
       "1     Rasika Dugal          Vivek Ghamande    Arvind Jangid  \n",
       "3          Prateik              Ishita Raj  Siddhant Kapoor  \n",
       "5       Bobby Deol  Aishwarya Rai Bachchan    Shammi Kapoor  \n",
       "6  Jimmy Sheirgill          Minissha Lamba   Yashpal Sharma  \n",
       "8        Yash Dave          Muntazir Ahmad     Kiran Bhatia  "
      ]
     },
     "execution_count": 16,
     "metadata": {},
     "output_type": "execute_result"
    }
   ],
   "source": [
    "df.head()"
   ]
  },
  {
   "cell_type": "code",
   "execution_count": 17,
   "id": "1a473cec",
   "metadata": {},
   "outputs": [
    {
     "data": {
      "text/plain": [
       "Year          0\n",
       "Genre       102\n",
       "Rating        0\n",
       "Votes         0\n",
       "Director      0\n",
       "Actor 1     125\n",
       "Actor 2     200\n",
       "Actor 3     292\n",
       "dtype: int64"
      ]
     },
     "execution_count": 17,
     "metadata": {},
     "output_type": "execute_result"
    }
   ],
   "source": [
    "df.isnull().sum()"
   ]
  },
  {
   "cell_type": "markdown",
   "id": "c938ffc2",
   "metadata": {},
   "source": [
    "# Feature Enginerring for  Year Column"
   ]
  },
  {
   "cell_type": "code",
   "execution_count": 18,
   "id": "ef1b2fd2",
   "metadata": {},
   "outputs": [],
   "source": [
    "df['Year'] = df['Year'].abs()"
   ]
  },
  {
   "cell_type": "code",
   "execution_count": 19,
   "id": "0b9c458f",
   "metadata": {},
   "outputs": [
    {
     "data": {
      "text/html": [
       "<div>\n",
       "<style scoped>\n",
       "    .dataframe tbody tr th:only-of-type {\n",
       "        vertical-align: middle;\n",
       "    }\n",
       "\n",
       "    .dataframe tbody tr th {\n",
       "        vertical-align: top;\n",
       "    }\n",
       "\n",
       "    .dataframe thead th {\n",
       "        text-align: right;\n",
       "    }\n",
       "</style>\n",
       "<table border=\"1\" class=\"dataframe\">\n",
       "  <thead>\n",
       "    <tr style=\"text-align: right;\">\n",
       "      <th></th>\n",
       "      <th>Year</th>\n",
       "      <th>Genre</th>\n",
       "      <th>Rating</th>\n",
       "      <th>Votes</th>\n",
       "      <th>Director</th>\n",
       "      <th>Actor 1</th>\n",
       "      <th>Actor 2</th>\n",
       "      <th>Actor 3</th>\n",
       "    </tr>\n",
       "  </thead>\n",
       "  <tbody>\n",
       "    <tr>\n",
       "      <th>1</th>\n",
       "      <td>2019.0</td>\n",
       "      <td>Drama</td>\n",
       "      <td>7.0</td>\n",
       "      <td>8</td>\n",
       "      <td>Gaurav Bakshi</td>\n",
       "      <td>Rasika Dugal</td>\n",
       "      <td>Vivek Ghamande</td>\n",
       "      <td>Arvind Jangid</td>\n",
       "    </tr>\n",
       "    <tr>\n",
       "      <th>3</th>\n",
       "      <td>2019.0</td>\n",
       "      <td>Comedy, Romance</td>\n",
       "      <td>4.4</td>\n",
       "      <td>35</td>\n",
       "      <td>Ovais Khan</td>\n",
       "      <td>Prateik</td>\n",
       "      <td>Ishita Raj</td>\n",
       "      <td>Siddhant Kapoor</td>\n",
       "    </tr>\n",
       "    <tr>\n",
       "      <th>5</th>\n",
       "      <td>1997.0</td>\n",
       "      <td>Comedy, Drama, Musical</td>\n",
       "      <td>4.7</td>\n",
       "      <td>827</td>\n",
       "      <td>Rahul Rawail</td>\n",
       "      <td>Bobby Deol</td>\n",
       "      <td>Aishwarya Rai Bachchan</td>\n",
       "      <td>Shammi Kapoor</td>\n",
       "    </tr>\n",
       "    <tr>\n",
       "      <th>6</th>\n",
       "      <td>2005.0</td>\n",
       "      <td>Drama, Romance, War</td>\n",
       "      <td>7.4</td>\n",
       "      <td>1,086</td>\n",
       "      <td>Shoojit Sircar</td>\n",
       "      <td>Jimmy Sheirgill</td>\n",
       "      <td>Minissha Lamba</td>\n",
       "      <td>Yashpal Sharma</td>\n",
       "    </tr>\n",
       "    <tr>\n",
       "      <th>8</th>\n",
       "      <td>2012.0</td>\n",
       "      <td>Horror, Mystery, Thriller</td>\n",
       "      <td>5.6</td>\n",
       "      <td>326</td>\n",
       "      <td>Allyson Patel</td>\n",
       "      <td>Yash Dave</td>\n",
       "      <td>Muntazir Ahmad</td>\n",
       "      <td>Kiran Bhatia</td>\n",
       "    </tr>\n",
       "  </tbody>\n",
       "</table>\n",
       "</div>"
      ],
      "text/plain": [
       "     Year                      Genre  Rating  Votes        Director  \\\n",
       "1  2019.0                      Drama     7.0      8   Gaurav Bakshi   \n",
       "3  2019.0            Comedy, Romance     4.4     35      Ovais Khan   \n",
       "5  1997.0     Comedy, Drama, Musical     4.7    827    Rahul Rawail   \n",
       "6  2005.0        Drama, Romance, War     7.4  1,086  Shoojit Sircar   \n",
       "8  2012.0  Horror, Mystery, Thriller     5.6    326   Allyson Patel   \n",
       "\n",
       "           Actor 1                 Actor 2          Actor 3  \n",
       "1     Rasika Dugal          Vivek Ghamande    Arvind Jangid  \n",
       "3          Prateik              Ishita Raj  Siddhant Kapoor  \n",
       "5       Bobby Deol  Aishwarya Rai Bachchan    Shammi Kapoor  \n",
       "6  Jimmy Sheirgill          Minissha Lamba   Yashpal Sharma  \n",
       "8        Yash Dave          Muntazir Ahmad     Kiran Bhatia  "
      ]
     },
     "execution_count": 19,
     "metadata": {},
     "output_type": "execute_result"
    }
   ],
   "source": [
    "df.head()"
   ]
  },
  {
   "cell_type": "code",
   "execution_count": 20,
   "id": "0f73be74",
   "metadata": {},
   "outputs": [
    {
     "data": {
      "text/plain": [
       "Year          0\n",
       "Genre       102\n",
       "Rating        0\n",
       "Votes         0\n",
       "Director      0\n",
       "Actor 1     125\n",
       "Actor 2     200\n",
       "Actor 3     292\n",
       "dtype: int64"
      ]
     },
     "execution_count": 20,
     "metadata": {},
     "output_type": "execute_result"
    }
   ],
   "source": [
    "df.isnull().sum()"
   ]
  },
  {
   "cell_type": "code",
   "execution_count": 21,
   "id": "8e8937cc",
   "metadata": {},
   "outputs": [],
   "source": [
    "df['Votes'] = df['Votes'].str.replace(',', '')"
   ]
  },
  {
   "cell_type": "markdown",
   "id": "df205831",
   "metadata": {},
   "source": [
    "# Feature Enginerring for Genre Column"
   ]
  },
  {
   "cell_type": "code",
   "execution_count": 22,
   "id": "4dbab92f",
   "metadata": {},
   "outputs": [
    {
     "data": {
      "text/plain": [
       "0    Drama\n",
       "Name: Genre, dtype: object"
      ]
     },
     "execution_count": 22,
     "metadata": {},
     "output_type": "execute_result"
    }
   ],
   "source": [
    "df['Genre'].mode()"
   ]
  },
  {
   "cell_type": "code",
   "execution_count": 23,
   "id": "b0e0658e",
   "metadata": {},
   "outputs": [],
   "source": [
    "df['Genre'].fillna(value='Drama', inplace=True)"
   ]
  },
  {
   "cell_type": "code",
   "execution_count": 24,
   "id": "40946661",
   "metadata": {},
   "outputs": [
    {
     "data": {
      "text/plain": [
       "Year          0\n",
       "Genre         0\n",
       "Rating        0\n",
       "Votes         0\n",
       "Director      0\n",
       "Actor 1     125\n",
       "Actor 2     200\n",
       "Actor 3     292\n",
       "dtype: int64"
      ]
     },
     "execution_count": 24,
     "metadata": {},
     "output_type": "execute_result"
    }
   ],
   "source": [
    "df.isnull().sum()"
   ]
  },
  {
   "cell_type": "code",
   "execution_count": 25,
   "id": "104b51d3",
   "metadata": {},
   "outputs": [
    {
     "data": {
      "text/plain": [
       "(7919, 8)"
      ]
     },
     "execution_count": 25,
     "metadata": {},
     "output_type": "execute_result"
    }
   ],
   "source": [
    "df.shape"
   ]
  },
  {
   "cell_type": "code",
   "execution_count": 26,
   "id": "ad31be97",
   "metadata": {},
   "outputs": [
    {
     "data": {
      "text/html": [
       "<div>\n",
       "<style scoped>\n",
       "    .dataframe tbody tr th:only-of-type {\n",
       "        vertical-align: middle;\n",
       "    }\n",
       "\n",
       "    .dataframe tbody tr th {\n",
       "        vertical-align: top;\n",
       "    }\n",
       "\n",
       "    .dataframe thead th {\n",
       "        text-align: right;\n",
       "    }\n",
       "</style>\n",
       "<table border=\"1\" class=\"dataframe\">\n",
       "  <thead>\n",
       "    <tr style=\"text-align: right;\">\n",
       "      <th></th>\n",
       "      <th>Year</th>\n",
       "      <th>Genre</th>\n",
       "      <th>Rating</th>\n",
       "      <th>Votes</th>\n",
       "      <th>Director</th>\n",
       "      <th>Actor 1</th>\n",
       "      <th>Actor 2</th>\n",
       "      <th>Actor 3</th>\n",
       "    </tr>\n",
       "  </thead>\n",
       "  <tbody>\n",
       "    <tr>\n",
       "      <th>1</th>\n",
       "      <td>2019.0</td>\n",
       "      <td>Drama</td>\n",
       "      <td>7.0</td>\n",
       "      <td>8</td>\n",
       "      <td>Gaurav Bakshi</td>\n",
       "      <td>Rasika Dugal</td>\n",
       "      <td>Vivek Ghamande</td>\n",
       "      <td>Arvind Jangid</td>\n",
       "    </tr>\n",
       "    <tr>\n",
       "      <th>3</th>\n",
       "      <td>2019.0</td>\n",
       "      <td>Comedy, Romance</td>\n",
       "      <td>4.4</td>\n",
       "      <td>35</td>\n",
       "      <td>Ovais Khan</td>\n",
       "      <td>Prateik</td>\n",
       "      <td>Ishita Raj</td>\n",
       "      <td>Siddhant Kapoor</td>\n",
       "    </tr>\n",
       "    <tr>\n",
       "      <th>5</th>\n",
       "      <td>1997.0</td>\n",
       "      <td>Comedy, Drama, Musical</td>\n",
       "      <td>4.7</td>\n",
       "      <td>827</td>\n",
       "      <td>Rahul Rawail</td>\n",
       "      <td>Bobby Deol</td>\n",
       "      <td>Aishwarya Rai Bachchan</td>\n",
       "      <td>Shammi Kapoor</td>\n",
       "    </tr>\n",
       "    <tr>\n",
       "      <th>6</th>\n",
       "      <td>2005.0</td>\n",
       "      <td>Drama, Romance, War</td>\n",
       "      <td>7.4</td>\n",
       "      <td>1086</td>\n",
       "      <td>Shoojit Sircar</td>\n",
       "      <td>Jimmy Sheirgill</td>\n",
       "      <td>Minissha Lamba</td>\n",
       "      <td>Yashpal Sharma</td>\n",
       "    </tr>\n",
       "    <tr>\n",
       "      <th>8</th>\n",
       "      <td>2012.0</td>\n",
       "      <td>Horror, Mystery, Thriller</td>\n",
       "      <td>5.6</td>\n",
       "      <td>326</td>\n",
       "      <td>Allyson Patel</td>\n",
       "      <td>Yash Dave</td>\n",
       "      <td>Muntazir Ahmad</td>\n",
       "      <td>Kiran Bhatia</td>\n",
       "    </tr>\n",
       "  </tbody>\n",
       "</table>\n",
       "</div>"
      ],
      "text/plain": [
       "     Year                      Genre  Rating Votes        Director  \\\n",
       "1  2019.0                      Drama     7.0     8   Gaurav Bakshi   \n",
       "3  2019.0            Comedy, Romance     4.4    35      Ovais Khan   \n",
       "5  1997.0     Comedy, Drama, Musical     4.7   827    Rahul Rawail   \n",
       "6  2005.0        Drama, Romance, War     7.4  1086  Shoojit Sircar   \n",
       "8  2012.0  Horror, Mystery, Thriller     5.6   326   Allyson Patel   \n",
       "\n",
       "           Actor 1                 Actor 2          Actor 3  \n",
       "1     Rasika Dugal          Vivek Ghamande    Arvind Jangid  \n",
       "3          Prateik              Ishita Raj  Siddhant Kapoor  \n",
       "5       Bobby Deol  Aishwarya Rai Bachchan    Shammi Kapoor  \n",
       "6  Jimmy Sheirgill          Minissha Lamba   Yashpal Sharma  \n",
       "8        Yash Dave          Muntazir Ahmad     Kiran Bhatia  "
      ]
     },
     "execution_count": 26,
     "metadata": {},
     "output_type": "execute_result"
    }
   ],
   "source": [
    "df.head(5)"
   ]
  },
  {
   "cell_type": "code",
   "execution_count": 27,
   "id": "383c20bb",
   "metadata": {},
   "outputs": [
    {
     "data": {
      "text/plain": [
       "array(['Gaurav Bakshi', 'Ovais Khan', 'Rahul Rawail', ...,\n",
       "       'Sumitra Bhave', 'Girish Girija Joshi', 'Mozez Singh'],\n",
       "      dtype=object)"
      ]
     },
     "execution_count": 27,
     "metadata": {},
     "output_type": "execute_result"
    }
   ],
   "source": [
    "df['Director'].unique()"
   ]
  },
  {
   "cell_type": "code",
   "execution_count": 28,
   "id": "79568783",
   "metadata": {},
   "outputs": [],
   "source": [
    "df['Genre'] = df['Genre'].astype(str)\n",
    "df['Director'] = df['Director'].astype(str)\n",
    "df['Votes'] = df['Votes'].astype(int)\n",
    "df['Year'] = df['Year'].astype(int)"
   ]
  },
  {
   "cell_type": "code",
   "execution_count": 29,
   "id": "1c6ef142",
   "metadata": {},
   "outputs": [
    {
     "data": {
      "text/plain": [
       "Year          int32\n",
       "Genre        object\n",
       "Rating      float64\n",
       "Votes         int32\n",
       "Director     object\n",
       "Actor 1      object\n",
       "Actor 2      object\n",
       "Actor 3      object\n",
       "dtype: object"
      ]
     },
     "execution_count": 29,
     "metadata": {},
     "output_type": "execute_result"
    }
   ],
   "source": [
    "df.dtypes"
   ]
  },
  {
   "cell_type": "markdown",
   "id": "d354ec33",
   "metadata": {},
   "source": [
    "# Concat All Actor Column in One Column"
   ]
  },
  {
   "cell_type": "code",
   "execution_count": 30,
   "id": "c1e9ada6",
   "metadata": {},
   "outputs": [],
   "source": [
    "actors = pd.concat([df['Actor 1'], df['Actor 2'], df['Actor 3']], ignore_index=True)\n",
    "actor_ratings = pd.DataFrame({'Actor': actors, 'Rating': df['Rating']})\n",
    "\n",
    "# Group the data by actor and calculate the average rating of the movies in which each actor has acted\n",
    "actor_average_rating = actor_ratings.groupby('Actor')['Rating'].mean()\n",
    "\n",
    "df['Avg_Rating_by_Actor'] = df['Actor 1'].map(actor_average_rating)"
   ]
  },
  {
   "cell_type": "code",
   "execution_count": 31,
   "id": "9bc1faea",
   "metadata": {},
   "outputs": [
    {
     "data": {
      "text/html": [
       "<div>\n",
       "<style scoped>\n",
       "    .dataframe tbody tr th:only-of-type {\n",
       "        vertical-align: middle;\n",
       "    }\n",
       "\n",
       "    .dataframe tbody tr th {\n",
       "        vertical-align: top;\n",
       "    }\n",
       "\n",
       "    .dataframe thead th {\n",
       "        text-align: right;\n",
       "    }\n",
       "</style>\n",
       "<table border=\"1\" class=\"dataframe\">\n",
       "  <thead>\n",
       "    <tr style=\"text-align: right;\">\n",
       "      <th></th>\n",
       "      <th>Year</th>\n",
       "      <th>Genre</th>\n",
       "      <th>Rating</th>\n",
       "      <th>Votes</th>\n",
       "      <th>Director</th>\n",
       "      <th>Actor 1</th>\n",
       "      <th>Actor 2</th>\n",
       "      <th>Actor 3</th>\n",
       "      <th>Avg_Rating_by_Actor</th>\n",
       "    </tr>\n",
       "  </thead>\n",
       "  <tbody>\n",
       "    <tr>\n",
       "      <th>1</th>\n",
       "      <td>2019</td>\n",
       "      <td>Drama</td>\n",
       "      <td>7.0</td>\n",
       "      <td>8</td>\n",
       "      <td>Gaurav Bakshi</td>\n",
       "      <td>Rasika Dugal</td>\n",
       "      <td>Vivek Ghamande</td>\n",
       "      <td>Arvind Jangid</td>\n",
       "      <td>5.450000</td>\n",
       "    </tr>\n",
       "    <tr>\n",
       "      <th>3</th>\n",
       "      <td>2019</td>\n",
       "      <td>Comedy, Romance</td>\n",
       "      <td>4.4</td>\n",
       "      <td>35</td>\n",
       "      <td>Ovais Khan</td>\n",
       "      <td>Prateik</td>\n",
       "      <td>Ishita Raj</td>\n",
       "      <td>Siddhant Kapoor</td>\n",
       "      <td>5.633333</td>\n",
       "    </tr>\n",
       "    <tr>\n",
       "      <th>5</th>\n",
       "      <td>1997</td>\n",
       "      <td>Comedy, Drama, Musical</td>\n",
       "      <td>4.7</td>\n",
       "      <td>827</td>\n",
       "      <td>Rahul Rawail</td>\n",
       "      <td>Bobby Deol</td>\n",
       "      <td>Aishwarya Rai Bachchan</td>\n",
       "      <td>Shammi Kapoor</td>\n",
       "      <td>5.827273</td>\n",
       "    </tr>\n",
       "    <tr>\n",
       "      <th>6</th>\n",
       "      <td>2005</td>\n",
       "      <td>Drama, Romance, War</td>\n",
       "      <td>7.4</td>\n",
       "      <td>1086</td>\n",
       "      <td>Shoojit Sircar</td>\n",
       "      <td>Jimmy Sheirgill</td>\n",
       "      <td>Minissha Lamba</td>\n",
       "      <td>Yashpal Sharma</td>\n",
       "      <td>5.757143</td>\n",
       "    </tr>\n",
       "    <tr>\n",
       "      <th>8</th>\n",
       "      <td>2012</td>\n",
       "      <td>Horror, Mystery, Thriller</td>\n",
       "      <td>5.6</td>\n",
       "      <td>326</td>\n",
       "      <td>Allyson Patel</td>\n",
       "      <td>Yash Dave</td>\n",
       "      <td>Muntazir Ahmad</td>\n",
       "      <td>Kiran Bhatia</td>\n",
       "      <td>NaN</td>\n",
       "    </tr>\n",
       "  </tbody>\n",
       "</table>\n",
       "</div>"
      ],
      "text/plain": [
       "   Year                      Genre  Rating  Votes        Director  \\\n",
       "1  2019                      Drama     7.0      8   Gaurav Bakshi   \n",
       "3  2019            Comedy, Romance     4.4     35      Ovais Khan   \n",
       "5  1997     Comedy, Drama, Musical     4.7    827    Rahul Rawail   \n",
       "6  2005        Drama, Romance, War     7.4   1086  Shoojit Sircar   \n",
       "8  2012  Horror, Mystery, Thriller     5.6    326   Allyson Patel   \n",
       "\n",
       "           Actor 1                 Actor 2          Actor 3  \\\n",
       "1     Rasika Dugal          Vivek Ghamande    Arvind Jangid   \n",
       "3          Prateik              Ishita Raj  Siddhant Kapoor   \n",
       "5       Bobby Deol  Aishwarya Rai Bachchan    Shammi Kapoor   \n",
       "6  Jimmy Sheirgill          Minissha Lamba   Yashpal Sharma   \n",
       "8        Yash Dave          Muntazir Ahmad     Kiran Bhatia   \n",
       "\n",
       "   Avg_Rating_by_Actor  \n",
       "1             5.450000  \n",
       "3             5.633333  \n",
       "5             5.827273  \n",
       "6             5.757143  \n",
       "8                  NaN  "
      ]
     },
     "execution_count": 31,
     "metadata": {},
     "output_type": "execute_result"
    }
   ],
   "source": [
    "df.head()"
   ]
  },
  {
   "cell_type": "code",
   "execution_count": 32,
   "id": "092ac717",
   "metadata": {},
   "outputs": [
    {
     "name": "stdout",
     "output_type": "stream",
     "text": [
      "Number of missing values in each column:\n",
      "Year                     0\n",
      "Genre                    0\n",
      "Rating                   0\n",
      "Votes                    0\n",
      "Director                 0\n",
      "Actor 1                125\n",
      "Actor 2                200\n",
      "Actor 3                292\n",
      "Avg_Rating_by_Actor    991\n",
      "dtype: int64\n"
     ]
    }
   ],
   "source": [
    "missing_values = df.isnull().sum()\n",
    "\n",
    "print(\"Number of missing values in each column:\")           # Display the count of missing values for each column\n",
    "print(missing_values)"
   ]
  },
  {
   "cell_type": "code",
   "execution_count": 33,
   "id": "fb58e2ad",
   "metadata": {},
   "outputs": [
    {
     "name": "stdout",
     "output_type": "stream",
     "text": [
      "Number of missing values in each column after imputation:\n",
      "Year                     0\n",
      "Genre                    0\n",
      "Rating                   0\n",
      "Votes                    0\n",
      "Director                 0\n",
      "Actor 1                125\n",
      "Actor 2                200\n",
      "Actor 3                292\n",
      "Avg_Rating_by_Actor      0\n",
      "dtype: int64\n"
     ]
    }
   ],
   "source": [
    "mean_rating_by_actor = df['Avg_Rating_by_Actor'].mean()         # Impute missing values in 'Avg_Rating_by_Actor' with the mean value of the column\n",
    "df['Avg_Rating_by_Actor'] = df['Avg_Rating_by_Actor'].fillna(mean_rating_by_actor)\n",
    "\n",
    "missing_values_after_imputation = df.isna().sum()\n",
    "\n",
    "print(\"Number of missing values in each column after imputation:\")        # Display the count of missing values for each column after imputation\n",
    "print(missing_values_after_imputation)"
   ]
  },
  {
   "cell_type": "code",
   "execution_count": 34,
   "id": "1c4a576a",
   "metadata": {},
   "outputs": [],
   "source": [
    "df= df.drop(columns=['Actor 1','Actor 2','Actor 3'])"
   ]
  },
  {
   "cell_type": "code",
   "execution_count": 35,
   "id": "5e438cec",
   "metadata": {},
   "outputs": [
    {
     "data": {
      "text/html": [
       "<div>\n",
       "<style scoped>\n",
       "    .dataframe tbody tr th:only-of-type {\n",
       "        vertical-align: middle;\n",
       "    }\n",
       "\n",
       "    .dataframe tbody tr th {\n",
       "        vertical-align: top;\n",
       "    }\n",
       "\n",
       "    .dataframe thead th {\n",
       "        text-align: right;\n",
       "    }\n",
       "</style>\n",
       "<table border=\"1\" class=\"dataframe\">\n",
       "  <thead>\n",
       "    <tr style=\"text-align: right;\">\n",
       "      <th></th>\n",
       "      <th>Year</th>\n",
       "      <th>Genre</th>\n",
       "      <th>Rating</th>\n",
       "      <th>Votes</th>\n",
       "      <th>Director</th>\n",
       "      <th>Avg_Rating_by_Actor</th>\n",
       "    </tr>\n",
       "  </thead>\n",
       "  <tbody>\n",
       "    <tr>\n",
       "      <th>1</th>\n",
       "      <td>2019</td>\n",
       "      <td>Drama</td>\n",
       "      <td>7.0</td>\n",
       "      <td>8</td>\n",
       "      <td>Gaurav Bakshi</td>\n",
       "      <td>5.450000</td>\n",
       "    </tr>\n",
       "    <tr>\n",
       "      <th>3</th>\n",
       "      <td>2019</td>\n",
       "      <td>Comedy, Romance</td>\n",
       "      <td>4.4</td>\n",
       "      <td>35</td>\n",
       "      <td>Ovais Khan</td>\n",
       "      <td>5.633333</td>\n",
       "    </tr>\n",
       "    <tr>\n",
       "      <th>5</th>\n",
       "      <td>1997</td>\n",
       "      <td>Comedy, Drama, Musical</td>\n",
       "      <td>4.7</td>\n",
       "      <td>827</td>\n",
       "      <td>Rahul Rawail</td>\n",
       "      <td>5.827273</td>\n",
       "    </tr>\n",
       "    <tr>\n",
       "      <th>6</th>\n",
       "      <td>2005</td>\n",
       "      <td>Drama, Romance, War</td>\n",
       "      <td>7.4</td>\n",
       "      <td>1086</td>\n",
       "      <td>Shoojit Sircar</td>\n",
       "      <td>5.757143</td>\n",
       "    </tr>\n",
       "    <tr>\n",
       "      <th>8</th>\n",
       "      <td>2012</td>\n",
       "      <td>Horror, Mystery, Thriller</td>\n",
       "      <td>5.6</td>\n",
       "      <td>326</td>\n",
       "      <td>Allyson Patel</td>\n",
       "      <td>5.830268</td>\n",
       "    </tr>\n",
       "  </tbody>\n",
       "</table>\n",
       "</div>"
      ],
      "text/plain": [
       "   Year                      Genre  Rating  Votes        Director  \\\n",
       "1  2019                      Drama     7.0      8   Gaurav Bakshi   \n",
       "3  2019            Comedy, Romance     4.4     35      Ovais Khan   \n",
       "5  1997     Comedy, Drama, Musical     4.7    827    Rahul Rawail   \n",
       "6  2005        Drama, Romance, War     7.4   1086  Shoojit Sircar   \n",
       "8  2012  Horror, Mystery, Thriller     5.6    326   Allyson Patel   \n",
       "\n",
       "   Avg_Rating_by_Actor  \n",
       "1             5.450000  \n",
       "3             5.633333  \n",
       "5             5.827273  \n",
       "6             5.757143  \n",
       "8             5.830268  "
      ]
     },
     "execution_count": 35,
     "metadata": {},
     "output_type": "execute_result"
    }
   ],
   "source": [
    "df.head(5)"
   ]
  },
  {
   "cell_type": "code",
   "execution_count": 36,
   "id": "23cfa47b",
   "metadata": {},
   "outputs": [
    {
     "data": {
      "text/plain": [
       "(7919, 6)"
      ]
     },
     "execution_count": 36,
     "metadata": {},
     "output_type": "execute_result"
    }
   ],
   "source": [
    "df.shape"
   ]
  },
  {
   "cell_type": "code",
   "execution_count": 37,
   "id": "f22bb6f6",
   "metadata": {},
   "outputs": [
    {
     "data": {
      "text/plain": [
       "Year                   0\n",
       "Genre                  0\n",
       "Rating                 0\n",
       "Votes                  0\n",
       "Director               0\n",
       "Avg_Rating_by_Actor    0\n",
       "dtype: int64"
      ]
     },
     "execution_count": 37,
     "metadata": {},
     "output_type": "execute_result"
    }
   ],
   "source": [
    "df.isnull().sum()"
   ]
  },
  {
   "cell_type": "code",
   "execution_count": 38,
   "id": "5bcd3f14",
   "metadata": {},
   "outputs": [
    {
     "data": {
      "text/plain": [
       "Year                     int32\n",
       "Genre                   object\n",
       "Rating                 float64\n",
       "Votes                    int32\n",
       "Director                object\n",
       "Avg_Rating_by_Actor    float64\n",
       "dtype: object"
      ]
     },
     "execution_count": 38,
     "metadata": {},
     "output_type": "execute_result"
    }
   ],
   "source": [
    "df.dtypes"
   ]
  },
  {
   "cell_type": "markdown",
   "id": "156cf248",
   "metadata": {},
   "source": [
    "# EDA (Exploratory Data Analysis)"
   ]
  },
  {
   "cell_type": "markdown",
   "id": "c701d5b2",
   "metadata": {},
   "source": [
    "Question:1-->find the Rating Disstirution in our data. "
   ]
  },
  {
   "cell_type": "code",
   "execution_count": 39,
   "id": "16d38c5b",
   "metadata": {},
   "outputs": [
    {
     "name": "stdout",
     "output_type": "stream",
     "text": [
      "Summary statistics:\n",
      "              Year       Rating          Votes  Avg_Rating_by_Actor\n",
      "count  7919.000000  7919.000000    7919.000000          7919.000000\n",
      "mean   1993.321758     5.841621    1938.520394             5.830268\n",
      "std      20.463770     1.381777   11602.415952             0.653730\n",
      "min    1917.000000     1.100000       5.000000             2.000000\n",
      "25%    1979.500000     4.900000      16.000000             5.618868\n",
      "50%    1997.000000     6.000000      55.000000             5.830268\n",
      "75%    2011.000000     6.800000     404.000000             6.073077\n",
      "max    2021.000000    10.000000  591417.000000             9.300000\n"
     ]
    },
    {
     "data": {
      "image/png": "[encoded data removed]",
      "text/plain": [
       "<Figure size 800x600 with 1 Axes>"
      ]
     },
     "metadata": {},
     "output_type": "display_data"
    }
   ],
   "source": [
    "# Summary statistics\n",
    "print(\"Summary statistics:\")\n",
    "print(df.describe())\n",
    "\n",
    "# Histogram of ratings\n",
    "plt.figure(figsize=(8, 6))\n",
    "plt.hist(df['Rating'], bins=20, color='skyblue', edgecolor='black')\n",
    "plt.xlabel('Rating')\n",
    "plt.ylabel('Frequency')\n",
    "plt.title('Distribution of Ratings')\n",
    "plt.show()\n"
   ]
  },
  {
   "cell_type": "markdown",
   "id": "760c8d3b",
   "metadata": {},
   "source": [
    "Question:-2 --> Movies Relaesed Distribution year wise"
   ]
  },
  {
   "cell_type": "code",
   "execution_count": 40,
   "id": "9981313a",
   "metadata": {},
   "outputs": [
    {
     "data": {
      "image/png": "[encoded data removed]",
      "text/plain": [
       "<Figure size 1200x600 with 1 Axes>"
      ]
     },
     "metadata": {},
     "output_type": "display_data"
    }
   ],
   "source": [
    "df['Year'] = df['Year'].astype(float)\n",
    "\n",
    "# Count the number of movies released each year\n",
    "movies_per_year = df['Year'].value_counts().sort_index()\n",
    "\n",
    "# Define colors for each bar\n",
    "colors = ['skyblue', 'salmon', 'lightgreen', 'orange', 'purple', 'teal', 'pink', 'yellow', 'lightblue', 'brown']\n",
    "\n",
    "# Plot the number of movies released each year\n",
    "plt.figure(figsize=(12, 6))\n",
    "plt.bar(movies_per_year.index, movies_per_year.values, color=colors)\n",
    "plt.xlabel('Year')\n",
    "plt.ylabel('Number of Movies Released')\n",
    "plt.title('Number of Movies Released Each Year')\n",
    "plt.xticks(rotation=45)\n",
    "plt.grid(axis='y', linestyle='--', alpha=0.7)\n",
    "plt.tight_layout()\n",
    "plt.show()"
   ]
  },
  {
   "cell_type": "markdown",
   "id": "843d42ee",
   "metadata": {},
   "source": [
    "Question:-3 --> Gener wise and year wise Movies realsed graph."
   ]
  },
  {
   "cell_type": "code",
   "execution_count": 41,
   "id": "6ea90c2f",
   "metadata": {},
   "outputs": [
    {
     "data": {
      "image/png": "[encoded data removed]",
      "text/plain": [
       "<Figure size 1200x600 with 1 Axes>"
      ]
     },
     "metadata": {},
     "output_type": "display_data"
    }
   ],
   "source": [
    "sns.set_theme()\n",
    "\n",
    "genres = df['Genre'].str.get_dummies(sep=', ')\n",
    "genres['Year'] = df['Year']                          # Add the 'Year' column to the new DataFrame\n",
    "genres_yearwise = genres.groupby('Year').sum()       # Group by year and sum the counts of each genre\n",
    "\n",
    "plt.figure(figsize=(12, 6))                 \n",
    "sns.lineplot(data=genres_yearwise, markers=True, dashes=False)\n",
    "plt.xlabel('Year')\n",
    "plt.ylabel('Number of Movies Released')\n",
    "plt.title('Number of Movies Released Each Year by Genre')\n",
    "plt.xticks(rotation=45)\n",
    "plt.legend(title='Genre', bbox_to_anchor=(1.05, 1), loc='upper left')\n",
    "plt.tight_layout()\n",
    "plt.show()\n"
   ]
  },
  {
   "cell_type": "markdown",
   "id": "fc75ec00",
   "metadata": {},
   "source": [
    "Question:- 4 --> Draw all Director to how many movies are relased"
   ]
  },
  {
   "cell_type": "code",
   "execution_count": 42,
   "id": "477c6451",
   "metadata": {},
   "outputs": [],
   "source": [
    "def TopTenPlot(column):\n",
    "    global df\n",
    "    df[column].value_counts().sort_values(ascending=False)[:10].plot(kind=\"bar\", figsize=(20,6), edgecolor=\"k\")\n",
    "    plt.xticks(rotation=0)\n",
    "    plt.title(\"Top Ten {}\".format(column))\n",
    "    plt.xlabel(column)\n",
    "    plt.ylabel(\"Count\")\n",
    "    plt.show()"
   ]
  },
  {
   "cell_type": "code",
   "execution_count": 43,
   "id": "eaa6727a",
   "metadata": {},
   "outputs": [
    {
     "data": {
      "image/png": "[encoded data removed]",
      "text/plain": [
       "<Figure size 2000x600 with 1 Axes>"
      ]
     },
     "metadata": {},
     "output_type": "display_data"
    }
   ],
   "source": [
    "TopTenPlot(\"Director\")"
   ]
  },
  {
   "cell_type": "code",
   "execution_count": 44,
   "id": "5f0771bb",
   "metadata": {},
   "outputs": [
    {
     "data": {
      "text/plain": [
       "Index(['Year', 'Genre', 'Rating', 'Votes', 'Director', 'Avg_Rating_by_Actor'], dtype='object')"
      ]
     },
     "execution_count": 44,
     "metadata": {},
     "output_type": "execute_result"
    }
   ],
   "source": [
    "df.columns"
   ]
  },
  {
   "cell_type": "markdown",
   "id": "c4f1c35f",
   "metadata": {},
   "source": [
    "# Model Selection"
   ]
  },
  {
   "cell_type": "code",
   "execution_count": 45,
   "id": "31192247",
   "metadata": {},
   "outputs": [],
   "source": [
    "features = df.drop(columns=['Rating','Genre','Director'])\n",
    "Y_PRE = df[['Rating']]      #Split Independent and Dependent Column into Feature and Target\n",
    "target = Y_PRE"
   ]
  },
  {
   "cell_type": "code",
   "execution_count": 46,
   "id": "90d78e2e",
   "metadata": {},
   "outputs": [],
   "source": [
    "x = features\n",
    "y = target"
   ]
  },
  {
   "cell_type": "code",
   "execution_count": 47,
   "id": "2b3f3bf1",
   "metadata": {},
   "outputs": [],
   "source": [
    "from sklearn.model_selection import train_test_split\n",
    "x_train,x_test,y_train,y_test = train_test_split(x,y, test_size=0.20, random_state = 42)     #Split train and test data"
   ]
  },
  {
   "cell_type": "code",
   "execution_count": 48,
   "id": "0a0eb848",
   "metadata": {},
   "outputs": [
    {
     "data": {
      "text/plain": [
       "((6335, 3), (1584, 3), (6335, 1), (1584, 1))"
      ]
     },
     "execution_count": 48,
     "metadata": {},
     "output_type": "execute_result"
    }
   ],
   "source": [
    "x_train.shape,x_test.shape,y_train.shape,y_test.shape"
   ]
  },
  {
   "cell_type": "markdown",
   "id": "865ac4eb",
   "metadata": {},
   "source": [
    "# Linear Regression"
   ]
  },
  {
   "cell_type": "code",
   "execution_count": 49,
   "id": "6be966d2",
   "metadata": {},
   "outputs": [
    {
     "name": "stdout",
     "output_type": "stream",
     "text": [
      "Mean Absolute Error: 1.062615634730268\n",
      "Root Mean Squared Error: 1.3260506714535472\n",
      "Mean Squared Error 1.7584103832624032\n",
      "R-squared: 0.054183374486468705\n"
     ]
    }
   ],
   "source": [
    "from sklearn.linear_model import LinearRegression               #apply Linear Regression on Data set\n",
    "rg_lin=LinearRegression(n_jobs=1)\n",
    "\n",
    "rg_lin.fit(x_train,y_train)\n",
    "y_pred1 = rg_lin.predict(x_test)\n",
    "\n",
    "\n",
    "mae = mean_absolute_error(y_test, y_pred1)\n",
    "rmse = mean_squared_error(y_test, y_pred1, squared=False)\n",
    "r_squared = r2_score(y_test, y_pred1)\n",
    "mse = mean_squared_error(y_test, y_pred1)\n",
    "\n",
    "print(\"Mean Absolute Error:\", mae)\n",
    "print(\"Root Mean Squared Error:\", rmse)\n",
    "print(\"Mean Squared Error\",mse)\n",
    "print(\"R-squared:\", r_squared)"
   ]
  },
  {
   "cell_type": "code",
   "execution_count": 50,
   "id": "e7470ef7",
   "metadata": {},
   "outputs": [
    {
     "data": {
      "text/plain": [
       "0.035966611139346495"
      ]
     },
     "execution_count": 50,
     "metadata": {},
     "output_type": "execute_result"
    }
   ],
   "source": [
    "#Checking Accuracy using test data (Cross Validation)\n",
    "mse=cross_val_score(rg_lin,x_train,y_train,scoring=\"r2\",cv=10)\n",
    "np.mean(mse)"
   ]
  },
  {
   "cell_type": "markdown",
   "id": "b68463f0",
   "metadata": {},
   "source": [
    "# Decision Tree"
   ]
  },
  {
   "cell_type": "code",
   "execution_count": 51,
   "id": "818819ab",
   "metadata": {},
   "outputs": [
    {
     "name": "stdout",
     "output_type": "stream",
     "text": [
      "Mean Absolute Error: 0.9244381719081523\n",
      "Root Mean Squared Error: 1.2090205985307334\n",
      "Mean Squared Error 1.461730807671613\n",
      "R-squared: 0.21376186521595286\n"
     ]
    }
   ],
   "source": [
    "from sklearn.tree import DecisionTreeRegressor\n",
    "dt=DecisionTreeRegressor(splitter='best', max_depth=None, min_samples_split=150, min_samples_leaf=100,max_leaf_nodes=200)\n",
    "\n",
    "dt.fit(x_train,y_train)\n",
    "y_pred2 = dt.predict(x_test)\n",
    "\n",
    "\n",
    "mae = mean_absolute_error(y_test, y_pred2)\n",
    "rmse = mean_squared_error(y_test, y_pred2, squared=False)\n",
    "r_squared = r2_score(y_test, y_pred2)\n",
    "mse = mean_squared_error(y_test, y_pred2)\n",
    "\n",
    "print(\"Mean Absolute Error:\", mae)\n",
    "print(\"Root Mean Squared Error:\", rmse)\n",
    "print(\"Mean Squared Error\",mse)\n",
    "print(\"R-squared:\", r_squared)"
   ]
  },
  {
   "cell_type": "code",
   "execution_count": 52,
   "id": "3c84ad0d",
   "metadata": {},
   "outputs": [
    {
     "data": {
      "text/plain": [
       "0.23793097918209138"
      ]
     },
     "execution_count": 52,
     "metadata": {},
     "output_type": "execute_result"
    }
   ],
   "source": [
    "#Checking Accuracy using test data (Cross Validation)\n",
    "mse=cross_val_score(dt,x_train,y_train,scoring=\"r2\",cv=10)\n",
    "np.mean(mse)"
   ]
  },
  {
   "cell_type": "markdown",
   "id": "c1029380",
   "metadata": {},
   "source": [
    "# Ridge Regression"
   ]
  },
  {
   "cell_type": "code",
   "execution_count": 53,
   "id": "a4bd1d67",
   "metadata": {},
   "outputs": [
    {
     "name": "stdout",
     "output_type": "stream",
     "text": [
      "Mean Absolute Error: 1.0626156392058799\n",
      "Root Mean Squared Error: 1.3260506702442023\n",
      "Mean Squared Error 1.7584103800550983\n",
      "R-squared: 0.05418337621161906\n"
     ]
    }
   ],
   "source": [
    "from sklearn.linear_model import Ridge\n",
    "rg_ridge = Ridge(alpha=1.0,max_iter=100,solver=\"auto\")      #using OLS\n",
    "\n",
    "rg_ridge.fit(x_train,y_train)\n",
    "y_pred3 = rg_ridge.predict(x_test)\n",
    "\n",
    "\n",
    "mae = mean_absolute_error(y_test, y_pred3)\n",
    "rmse = mean_squared_error(y_test, y_pred3, squared=False)\n",
    "r_squared = r2_score(y_test, y_pred3)\n",
    "mse = mean_squared_error(y_test, y_pred3)\n",
    "\n",
    "print(\"Mean Absolute Error:\", mae)\n",
    "print(\"Root Mean Squared Error:\", rmse)\n",
    "print(\"Mean Squared Error\",mse)\n",
    "print(\"R-squared:\", r_squared)"
   ]
  },
  {
   "cell_type": "code",
   "execution_count": 54,
   "id": "8d3984a5",
   "metadata": {},
   "outputs": [
    {
     "data": {
      "text/plain": [
       "0.03596675451735666"
      ]
     },
     "execution_count": 54,
     "metadata": {},
     "output_type": "execute_result"
    }
   ],
   "source": [
    "#Checking Accuracy using test data (Cross Validation)\n",
    "mse=cross_val_score(rg_ridge,x_train,y_train,scoring=\"r2\",cv=10)\n",
    "np.mean(mse)"
   ]
  },
  {
   "cell_type": "markdown",
   "id": "0f32def5",
   "metadata": {},
   "source": [
    "# Random Forest"
   ]
  },
  {
   "cell_type": "code",
   "execution_count": 55,
   "id": "1c7dd1df",
   "metadata": {},
   "outputs": [
    {
     "name": "stdout",
     "output_type": "stream",
     "text": [
      "Mean Absolute Error: 0.9244381719081523\n",
      "Root Mean Squared Error: 1.2090205985307334\n",
      "Mean Squared Error 1.461730807671613\n",
      "R-squared: 0.21376186521595286\n"
     ]
    }
   ],
   "source": [
    "from sklearn.ensemble import RandomForestRegressor \n",
    "rf=RandomForestRegressor(n_estimators=1050, max_depth=None, min_samples_split=2000, min_samples_leaf=1,max_features='log2',max_samples=5000)\n",
    "\n",
    "dt.fit(x_train,y_train)\n",
    "y_pred4 = dt.predict(x_test)\n",
    "\n",
    "\n",
    "mae = mean_absolute_error(y_test, y_pred4)\n",
    "rmse = mean_squared_error(y_test, y_pred4, squared=False)\n",
    "r_squared = r2_score(y_test, y_pred4)\n",
    "mse = mean_squared_error(y_test, y_pred4)\n",
    "\n",
    "print(\"Mean Absolute Error:\", mae)\n",
    "print(\"Root Mean Squared Error:\", rmse)\n",
    "print(\"Mean Squared Error\",mse)\n",
    "print(\"R-squared:\", r_squared)"
   ]
  },
  {
   "cell_type": "code",
   "execution_count": 56,
   "id": "25dd8fe2",
   "metadata": {},
   "outputs": [
    {
     "name": "stderr",
     "output_type": "stream",
     "text": [
      "C:\\Users\\jasmi\\anaconda3\\Lib\\site-packages\\sklearn\\base.py:1151: DataConversionWarning: A column-vector y was passed when a 1d array was expected. Please change the shape of y to (n_samples,), for example using ravel().\n",
      "  return fit_method(estimator, *args, **kwargs)\n",
      "C:\\Users\\jasmi\\anaconda3\\Lib\\site-packages\\sklearn\\base.py:1151: DataConversionWarning: A column-vector y was passed when a 1d array was expected. Please change the shape of y to (n_samples,), for example using ravel().\n",
      "  return fit_method(estimator, *args, **kwargs)\n",
      "C:\\Users\\jasmi\\anaconda3\\Lib\\site-packages\\sklearn\\base.py:1151: DataConversionWarning: A column-vector y was passed when a 1d array was expected. Please change the shape of y to (n_samples,), for example using ravel().\n",
      "  return fit_method(estimator, *args, **kwargs)\n",
      "C:\\Users\\jasmi\\anaconda3\\Lib\\site-packages\\sklearn\\base.py:1151: DataConversionWarning: A column-vector y was passed when a 1d array was expected. Please change the shape of y to (n_samples,), for example using ravel().\n",
      "  return fit_method(estimator, *args, **kwargs)\n",
      "C:\\Users\\jasmi\\anaconda3\\Lib\\site-packages\\sklearn\\base.py:1151: DataConversionWarning: A column-vector y was passed when a 1d array was expected. Please change the shape of y to (n_samples,), for example using ravel().\n",
      "  return fit_method(estimator, *args, **kwargs)\n",
      "C:\\Users\\jasmi\\anaconda3\\Lib\\site-packages\\sklearn\\base.py:1151: DataConversionWarning: A column-vector y was passed when a 1d array was expected. Please change the shape of y to (n_samples,), for example using ravel().\n",
      "  return fit_method(estimator, *args, **kwargs)\n",
      "C:\\Users\\jasmi\\anaconda3\\Lib\\site-packages\\sklearn\\base.py:1151: DataConversionWarning: A column-vector y was passed when a 1d array was expected. Please change the shape of y to (n_samples,), for example using ravel().\n",
      "  return fit_method(estimator, *args, **kwargs)\n",
      "C:\\Users\\jasmi\\anaconda3\\Lib\\site-packages\\sklearn\\base.py:1151: DataConversionWarning: A column-vector y was passed when a 1d array was expected. Please change the shape of y to (n_samples,), for example using ravel().\n",
      "  return fit_method(estimator, *args, **kwargs)\n",
      "C:\\Users\\jasmi\\anaconda3\\Lib\\site-packages\\sklearn\\base.py:1151: DataConversionWarning: A column-vector y was passed when a 1d array was expected. Please change the shape of y to (n_samples,), for example using ravel().\n",
      "  return fit_method(estimator, *args, **kwargs)\n",
      "C:\\Users\\jasmi\\anaconda3\\Lib\\site-packages\\sklearn\\base.py:1151: DataConversionWarning: A column-vector y was passed when a 1d array was expected. Please change the shape of y to (n_samples,), for example using ravel().\n",
      "  return fit_method(estimator, *args, **kwargs)\n"
     ]
    },
    {
     "data": {
      "text/plain": [
       "0.11443709912148123"
      ]
     },
     "execution_count": 56,
     "metadata": {},
     "output_type": "execute_result"
    }
   ],
   "source": [
    "#Checking Accuracy using test data (Cross Validation)\n",
    "mse=cross_val_score(rf,x_train,y_train,scoring=\"r2\",cv=10)\n",
    "np.mean(mse)"
   ]
  },
  {
   "cell_type": "markdown",
   "id": "ec794a3b",
   "metadata": {},
   "source": [
    "# KNN"
   ]
  },
  {
   "cell_type": "code",
   "execution_count": 57,
   "id": "3241986b",
   "metadata": {},
   "outputs": [
    {
     "name": "stdout",
     "output_type": "stream",
     "text": [
      "Mean Absolute Error: 0.9882275348026366\n",
      "Root Mean Squared Error: 1.2638932352053096\n",
      "Mean Squared Error 1.5974261099977438\n",
      "R-squared: 0.14077385617905025\n"
     ]
    }
   ],
   "source": [
    "from sklearn.neighbors import KNeighborsRegressor\n",
    "kn=KNeighborsRegressor(n_neighbors=300,weights='distance', algorithm='kd_tree', p=2,)\n",
    "\n",
    "kn.fit(x_train,y_train)\n",
    "y_pred5 = kn.predict(x_test)\n",
    "\n",
    "\n",
    "mae = mean_absolute_error(y_test, y_pred5)\n",
    "rmse = mean_squared_error(y_test, y_pred5, squared=False)\n",
    "r_squared = r2_score(y_test, y_pred5)\n",
    "mse = mean_squared_error(y_test, y_pred5)\n",
    "\n",
    "print(\"Mean Absolute Error:\", mae)\n",
    "print(\"Root Mean Squared Error:\", rmse)\n",
    "print(\"Mean Squared Error\",mse)\n",
    "print(\"R-squared:\", r_squared)"
   ]
  },
  {
   "cell_type": "code",
   "execution_count": 58,
   "id": "55da52ce",
   "metadata": {},
   "outputs": [
    {
     "data": {
      "text/plain": [
       "0.15872924218794876"
      ]
     },
     "execution_count": 58,
     "metadata": {},
     "output_type": "execute_result"
    }
   ],
   "source": [
    "#Checking Accuracy using test data (Cross Validation)\n",
    "mse=cross_val_score(kn,x_train,y_train,scoring=\"r2\",cv=10)\n",
    "np.mean(mse)"
   ]
  },
  {
   "cell_type": "markdown",
   "id": "8bd78d92",
   "metadata": {},
   "source": [
    "# Stacking Regression"
   ]
  },
  {
   "cell_type": "code",
   "execution_count": 59,
   "id": "70edeb9a",
   "metadata": {},
   "outputs": [
    {
     "name": "stderr",
     "output_type": "stream",
     "text": [
      "C:\\Users\\jasmi\\anaconda3\\Lib\\site-packages\\sklearn\\ensemble\\_stacking.py:955: DataConversionWarning: A column-vector y was passed when a 1d array was expected. Please change the shape of y to (n_samples, ), for example using ravel().\n",
      "  y = column_or_1d(y, warn=True)\n"
     ]
    },
    {
     "name": "stdout",
     "output_type": "stream",
     "text": [
      "Mean Absolute Error: 0.9237834184187955\n",
      "Root Mean Squared Error: 1.1979084234031614\n",
      "Mean Squared Error 1.4349845908602479\n",
      "R-squared: 0.2281481636424012\n"
     ]
    }
   ],
   "source": [
    "from sklearn.ensemble import StackingRegressor\n",
    "\n",
    "estimators = [                                                         # BASE model\n",
    "    ('linear', LinearRegression()),\n",
    "    ('tree', DecisionTreeRegressor()),\n",
    "    ('forest', RandomForestRegressor())]\n",
    "\n",
    "sr = StackingRegressor(estimators=estimators)\n",
    "sr.fit(x_train,y_train)\n",
    "y_pred6 = sr.predict(x_test)\n",
    "\n",
    "\n",
    "mae = mean_absolute_error(y_test, y_pred6)\n",
    "rmse = mean_squared_error(y_test, y_pred6, squared=False)\n",
    "r_squared = r2_score(y_test, y_pred6)\n",
    "mse = mean_squared_error(y_test, y_pred6)\n",
    "\n",
    "print(\"Mean Absolute Error:\", mae)\n",
    "print(\"Root Mean Squared Error:\", rmse)\n",
    "print(\"Mean Squared Error\",mse)\n",
    "print(\"R-squared:\", r_squared)"
   ]
  },
  {
   "cell_type": "code",
   "execution_count": 60,
   "id": "4c8f3393",
   "metadata": {},
   "outputs": [
    {
     "name": "stderr",
     "output_type": "stream",
     "text": [
      "C:\\Users\\jasmi\\anaconda3\\Lib\\site-packages\\sklearn\\ensemble\\_stacking.py:955: DataConversionWarning: A column-vector y was passed when a 1d array was expected. Please change the shape of y to (n_samples, ), for example using ravel().\n",
      "  y = column_or_1d(y, warn=True)\n",
      "C:\\Users\\jasmi\\anaconda3\\Lib\\site-packages\\sklearn\\ensemble\\_stacking.py:955: DataConversionWarning: A column-vector y was passed when a 1d array was expected. Please change the shape of y to (n_samples, ), for example using ravel().\n",
      "  y = column_or_1d(y, warn=True)\n",
      "C:\\Users\\jasmi\\anaconda3\\Lib\\site-packages\\sklearn\\ensemble\\_stacking.py:955: DataConversionWarning: A column-vector y was passed when a 1d array was expected. Please change the shape of y to (n_samples, ), for example using ravel().\n",
      "  y = column_or_1d(y, warn=True)\n",
      "C:\\Users\\jasmi\\anaconda3\\Lib\\site-packages\\sklearn\\ensemble\\_stacking.py:955: DataConversionWarning: A column-vector y was passed when a 1d array was expected. Please change the shape of y to (n_samples, ), for example using ravel().\n",
      "  y = column_or_1d(y, warn=True)\n",
      "C:\\Users\\jasmi\\anaconda3\\Lib\\site-packages\\sklearn\\ensemble\\_stacking.py:955: DataConversionWarning: A column-vector y was passed when a 1d array was expected. Please change the shape of y to (n_samples, ), for example using ravel().\n",
      "  y = column_or_1d(y, warn=True)\n",
      "C:\\Users\\jasmi\\anaconda3\\Lib\\site-packages\\sklearn\\ensemble\\_stacking.py:955: DataConversionWarning: A column-vector y was passed when a 1d array was expected. Please change the shape of y to (n_samples, ), for example using ravel().\n",
      "  y = column_or_1d(y, warn=True)\n",
      "C:\\Users\\jasmi\\anaconda3\\Lib\\site-packages\\sklearn\\ensemble\\_stacking.py:955: DataConversionWarning: A column-vector y was passed when a 1d array was expected. Please change the shape of y to (n_samples, ), for example using ravel().\n",
      "  y = column_or_1d(y, warn=True)\n",
      "C:\\Users\\jasmi\\anaconda3\\Lib\\site-packages\\sklearn\\ensemble\\_stacking.py:955: DataConversionWarning: A column-vector y was passed when a 1d array was expected. Please change the shape of y to (n_samples, ), for example using ravel().\n",
      "  y = column_or_1d(y, warn=True)\n",
      "C:\\Users\\jasmi\\anaconda3\\Lib\\site-packages\\sklearn\\ensemble\\_stacking.py:955: DataConversionWarning: A column-vector y was passed when a 1d array was expected. Please change the shape of y to (n_samples, ), for example using ravel().\n",
      "  y = column_or_1d(y, warn=True)\n",
      "C:\\Users\\jasmi\\anaconda3\\Lib\\site-packages\\sklearn\\ensemble\\_stacking.py:955: DataConversionWarning: A column-vector y was passed when a 1d array was expected. Please change the shape of y to (n_samples, ), for example using ravel().\n",
      "  y = column_or_1d(y, warn=True)\n"
     ]
    },
    {
     "data": {
      "text/plain": [
       "0.22389616357067393"
      ]
     },
     "execution_count": 60,
     "metadata": {},
     "output_type": "execute_result"
    }
   ],
   "source": [
    "#Checking Accuracy using test data (Cross Validation)\n",
    "mse=cross_val_score(sr,x_train,y_train,scoring=\"r2\",cv=10)\n",
    "np.mean(mse)"
   ]
  },
  {
   "cell_type": "markdown",
   "id": "e34bc93f",
   "metadata": {},
   "source": [
    "Compare all Algorithum Reuslt by chart"
   ]
  },
  {
   "cell_type": "code",
   "execution_count": null,
   "id": "172ab179",
   "metadata": {},
   "outputs": [],
   "source": [
    "# Store the mean squared errors of each model\n",
    "root_mean_squared_errors = {\n",
    "    'Linear Regression': 1.3260506714535472,\n",
    "    'Decision Tree': 1.2090205985307336,\n",
    "    'Ridge Regression': 1.3260506702442023,\n",
    "    'Random Forest': 1.2090205985307334,\n",
    "    'Stacking': 1.2037799013099815,\n",
    "    'KNN': 1.2638932352053096\n",
    "}\n",
    "\n",
    "# Plot the mean squared errors\n",
    "plt.figure(figsize=(10, 6))\n",
    "plt.bar(root_mean_squared_errors.keys(), root_mean_squared_errors.values(), color='skyblue')\n",
    "plt.xlabel('Model')\n",
    "plt.ylabel('root Mean Squared Error')\n",
    "plt.title('Comparison of root Mean Squared Error across Models')\n",
    "plt.xticks(rotation=45)\n",
    "plt.grid(axis='y', linestyle='--', alpha=0.7)\n",
    "plt.tight_layout()\n",
    "plt.show()"
   ]
  },
  {
   "cell_type": "markdown",
   "id": "6546d54f",
   "metadata": {},
   "source": [
    "Draw Predict line "
   ]
  },
  {
   "cell_type": "code",
   "execution_count": 62,
   "id": "3d848139",
   "metadata": {},
   "outputs": [
    {
     "name": "stderr",
     "output_type": "stream",
     "text": [
      "C:\\Users\\jasmi\\anaconda3\\Lib\\site-packages\\sklearn\\ensemble\\_stacking.py:955: DataConversionWarning: A column-vector y was passed when a 1d array was expected. Please change the shape of y to (n_samples, ), for example using ravel().\n",
      "  y = column_or_1d(y, warn=True)\n"
     ]
    },
    {
     "name": "stdout",
     "output_type": "stream",
     "text": [
      "Mean Absolute Error: 0.9274942337685153\n",
      "Root Mean Squared Error: 1.20688397192525\n",
      "Mean Squared Error 1.4565689216900675\n",
      "R-squared: 0.2165383488097843\n"
     ]
    },
    {
     "data": {
      "image/png": "[encoded data removed]",
      "text/plain": [
       "<Figure size 1000x600 with 1 Axes>"
      ]
     },
     "metadata": {},
     "output_type": "display_data"
    }
   ],
   "source": [
    "estimators = [                                                         # Define your \n",
    "    ('linear', LinearRegression()),\n",
    "    ('tree', DecisionTreeRegressor()),\n",
    "    ('forest', RandomForestRegressor())]\n",
    "\n",
    "sr = StackingRegressor(estimators=estimators)\n",
    "sr.fit(x_train,y_train)\n",
    "y_pred6 = sr.predict(x_test)\n",
    "\n",
    "\n",
    "mae = mean_absolute_error(y_test, y_pred6)\n",
    "rmse = mean_squared_error(y_test, y_pred6, squared=False)\n",
    "r_squared = r2_score(y_test, y_pred6)\n",
    "mse = mean_squared_error(y_test, y_pred6)\n",
    "\n",
    "print(\"Mean Absolute Error:\", mae)\n",
    "print(\"Root Mean Squared Error:\", rmse)\n",
    "print(\"Mean Squared Error\",mse)\n",
    "print(\"R-squared:\", r_squared)\n",
    "\n",
    "plt.figure(figsize=(10, 6))\n",
    "plt.scatter(y_test, y_pred6, color='blue')\n",
    "plt.plot([y_test.min(), y_test.max()], [y_test.min(), y_test.max()], 'k--', lw=2)\n",
    "plt.xlabel('Actual Rating')\n",
    "plt.ylabel('Predicted Rating')\n",
    "plt.title('Actual vs. Predicted Ratings (Stacking)')\n",
    "plt.show()"
   ]
  },
  {
   "cell_type": "markdown",
   "id": "f18b7686",
   "metadata": {},
   "source": [
    "Compare Actual And Predict value"
   ]
  },
  {
   "cell_type": "code",
   "execution_count": 104,
   "id": "130ae4f0",
   "metadata": {},
   "outputs": [],
   "source": [
    "y_test=np.array(y_test)\n",
    "y_pred6=np.array(y_pred6)\n",
    "\n",
    "y_test=y_test.tolist()\n",
    "y_pred6=y_pred6.tolist()"
   ]
  },
  {
   "cell_type": "code",
   "execution_count": 106,
   "id": "c64f0055",
   "metadata": {},
   "outputs": [],
   "source": [
    "data = {'Actual Ratings': y_test, 'Predicted Ratings': y_pred6}\n",
    "result_df = pd.DataFrame(data)"
   ]
  },
  {
   "cell_type": "code",
   "execution_count": 107,
   "id": "a8f76117",
   "metadata": {},
   "outputs": [
    {
     "data": {
      "text/html": [
       "<div>\n",
       "<style scoped>\n",
       "    .dataframe tbody tr th:only-of-type {\n",
       "        vertical-align: middle;\n",
       "    }\n",
       "\n",
       "    .dataframe tbody tr th {\n",
       "        vertical-align: top;\n",
       "    }\n",
       "\n",
       "    .dataframe thead th {\n",
       "        text-align: right;\n",
       "    }\n",
       "</style>\n",
       "<table border=\"1\" class=\"dataframe\">\n",
       "  <thead>\n",
       "    <tr style=\"text-align: right;\">\n",
       "      <th></th>\n",
       "      <th>Actual Ratings</th>\n",
       "      <th>Predicted Ratings</th>\n",
       "    </tr>\n",
       "  </thead>\n",
       "  <tbody>\n",
       "    <tr>\n",
       "      <th>0</th>\n",
       "      <td>[3.3]</td>\n",
       "      <td>[4.508551764826907]</td>\n",
       "    </tr>\n",
       "    <tr>\n",
       "      <th>1</th>\n",
       "      <td>[5.3]</td>\n",
       "      <td>[5.911030329282347]</td>\n",
       "    </tr>\n",
       "    <tr>\n",
       "      <th>2</th>\n",
       "      <td>[5.7]</td>\n",
       "      <td>[5.2046351786726515]</td>\n",
       "    </tr>\n",
       "    <tr>\n",
       "      <th>3</th>\n",
       "      <td>[7.2]</td>\n",
       "      <td>[4.4561022273114546]</td>\n",
       "    </tr>\n",
       "    <tr>\n",
       "      <th>4</th>\n",
       "      <td>[3.5]</td>\n",
       "      <td>[5.539571191738822]</td>\n",
       "    </tr>\n",
       "    <tr>\n",
       "      <th>...</th>\n",
       "      <td>...</td>\n",
       "      <td>...</td>\n",
       "    </tr>\n",
       "    <tr>\n",
       "      <th>1579</th>\n",
       "      <td>[5.9]</td>\n",
       "      <td>[5.431221295375297]</td>\n",
       "    </tr>\n",
       "    <tr>\n",
       "      <th>1580</th>\n",
       "      <td>[5.8]</td>\n",
       "      <td>[5.949198261610978]</td>\n",
       "    </tr>\n",
       "    <tr>\n",
       "      <th>1581</th>\n",
       "      <td>[4.5]</td>\n",
       "      <td>[5.73418643577106]</td>\n",
       "    </tr>\n",
       "    <tr>\n",
       "      <th>1582</th>\n",
       "      <td>[5.0]</td>\n",
       "      <td>[5.091815039133374]</td>\n",
       "    </tr>\n",
       "    <tr>\n",
       "      <th>1583</th>\n",
       "      <td>[8.6]</td>\n",
       "      <td>[5.759112078183756]</td>\n",
       "    </tr>\n",
       "  </tbody>\n",
       "</table>\n",
       "<p>1584 rows × 2 columns</p>\n",
       "</div>"
      ],
      "text/plain": [
       "     Actual Ratings     Predicted Ratings\n",
       "0             [3.3]   [4.508551764826907]\n",
       "1             [5.3]   [5.911030329282347]\n",
       "2             [5.7]  [5.2046351786726515]\n",
       "3             [7.2]  [4.4561022273114546]\n",
       "4             [3.5]   [5.539571191738822]\n",
       "...             ...                   ...\n",
       "1579          [5.9]   [5.431221295375297]\n",
       "1580          [5.8]   [5.949198261610978]\n",
       "1581          [4.5]    [5.73418643577106]\n",
       "1582          [5.0]   [5.091815039133374]\n",
       "1583          [8.6]   [5.759112078183756]\n",
       "\n",
       "[1584 rows x 2 columns]"
      ]
     },
     "execution_count": 107,
     "metadata": {},
     "output_type": "execute_result"
    }
   ],
   "source": [
    "result_df"
   ]
  },
  {
   "cell_type": "code",
   "execution_count": 108,
   "id": "0c091d28",
   "metadata": {},
   "outputs": [],
   "source": [
    "result_df = result_df.applymap(lambda x: float(x[0]))"
   ]
  },
  {
   "cell_type": "code",
   "execution_count": 109,
   "id": "1bf69a00",
   "metadata": {},
   "outputs": [
    {
     "data": {
      "text/html": [
       "<div>\n",
       "<style scoped>\n",
       "    .dataframe tbody tr th:only-of-type {\n",
       "        vertical-align: middle;\n",
       "    }\n",
       "\n",
       "    .dataframe tbody tr th {\n",
       "        vertical-align: top;\n",
       "    }\n",
       "\n",
       "    .dataframe thead th {\n",
       "        text-align: right;\n",
       "    }\n",
       "</style>\n",
       "<table border=\"1\" class=\"dataframe\">\n",
       "  <thead>\n",
       "    <tr style=\"text-align: right;\">\n",
       "      <th></th>\n",
       "      <th>Actual Ratings</th>\n",
       "      <th>Predicted Ratings</th>\n",
       "    </tr>\n",
       "  </thead>\n",
       "  <tbody>\n",
       "    <tr>\n",
       "      <th>0</th>\n",
       "      <td>3.3</td>\n",
       "      <td>4.508552</td>\n",
       "    </tr>\n",
       "    <tr>\n",
       "      <th>1</th>\n",
       "      <td>5.3</td>\n",
       "      <td>5.911030</td>\n",
       "    </tr>\n",
       "    <tr>\n",
       "      <th>2</th>\n",
       "      <td>5.7</td>\n",
       "      <td>5.204635</td>\n",
       "    </tr>\n",
       "    <tr>\n",
       "      <th>3</th>\n",
       "      <td>7.2</td>\n",
       "      <td>4.456102</td>\n",
       "    </tr>\n",
       "    <tr>\n",
       "      <th>4</th>\n",
       "      <td>3.5</td>\n",
       "      <td>5.539571</td>\n",
       "    </tr>\n",
       "    <tr>\n",
       "      <th>...</th>\n",
       "      <td>...</td>\n",
       "      <td>...</td>\n",
       "    </tr>\n",
       "    <tr>\n",
       "      <th>1579</th>\n",
       "      <td>5.9</td>\n",
       "      <td>5.431221</td>\n",
       "    </tr>\n",
       "    <tr>\n",
       "      <th>1580</th>\n",
       "      <td>5.8</td>\n",
       "      <td>5.949198</td>\n",
       "    </tr>\n",
       "    <tr>\n",
       "      <th>1581</th>\n",
       "      <td>4.5</td>\n",
       "      <td>5.734186</td>\n",
       "    </tr>\n",
       "    <tr>\n",
       "      <th>1582</th>\n",
       "      <td>5.0</td>\n",
       "      <td>5.091815</td>\n",
       "    </tr>\n",
       "    <tr>\n",
       "      <th>1583</th>\n",
       "      <td>8.6</td>\n",
       "      <td>5.759112</td>\n",
       "    </tr>\n",
       "  </tbody>\n",
       "</table>\n",
       "<p>1584 rows × 2 columns</p>\n",
       "</div>"
      ],
      "text/plain": [
       "      Actual Ratings  Predicted Ratings\n",
       "0                3.3           4.508552\n",
       "1                5.3           5.911030\n",
       "2                5.7           5.204635\n",
       "3                7.2           4.456102\n",
       "4                3.5           5.539571\n",
       "...              ...                ...\n",
       "1579             5.9           5.431221\n",
       "1580             5.8           5.949198\n",
       "1581             4.5           5.734186\n",
       "1582             5.0           5.091815\n",
       "1583             8.6           5.759112\n",
       "\n",
       "[1584 rows x 2 columns]"
      ]
     },
     "execution_count": 109,
     "metadata": {},
     "output_type": "execute_result"
    }
   ],
   "source": [
    "result_df"
   ]
  },
  {
   "cell_type": "code",
   "execution_count": 114,
   "id": "14a6827c",
   "metadata": {},
   "outputs": [
    {
     "name": "stderr",
     "output_type": "stream",
     "text": [
      "No artists with labels found to put in legend.  Note that artists whose label start with an underscore are ignored when legend() is called with no argument.\n"
     ]
    },
    {
     "data": {
      "image/png": "[encoded data removed]",
      "text/plain": [
       "<Figure size 1000x700 with 1 Axes>"
      ]
     },
     "metadata": {},
     "output_type": "display_data"
    }
   ],
   "source": [
    "# Plot the actual and predicted ratings\n",
    "plt.figure(figsize=(10, 7))\n",
    "sns.barplot(data=result_df)\n",
    "\n",
    "plt.xlabel('Sample Index')\n",
    "plt.ylabel('Movie Ratings')\n",
    "plt.title('Comparison of Actual vs Predicted Movie Ratings')\n",
    "plt.legend(loc='upper right')\n",
    "plt.show()\n"
   ]
  }
 ],
 "metadata": {
  "kernelspec": {
   "display_name": "Python 3 (ipykernel)",
   "language": "python",
   "name": "python3"
  },
  "language_info": {
   "codemirror_mode": {
    "name": "ipython",
    "version": 3
   },
   "file_extension": ".py",
   "mimetype": "text/x-python",
   "name": "python",
   "nbconvert_exporter": "python",
   "pygments_lexer": "ipython3",
   "version": "3.11.5"
  }
 },
 "nbformat": 4,
 "nbformat_minor": 5
}
